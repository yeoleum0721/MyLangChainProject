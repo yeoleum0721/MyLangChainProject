{
 "cells": [
  {
   "cell_type": "markdown",
   "metadata": {},
   "source": [
    "## 1. 환경 설정"
   ]
  },
  {
   "cell_type": "markdown",
   "metadata": {},
   "source": [
    "`(1) Env 환경변수`"
   ]
  },
  {
   "cell_type": "code",
   "execution_count": 3,
   "metadata": {},
   "outputs": [
    {
     "name": "stdout",
     "output_type": "stream",
     "text": [
      "sk\n",
      "Fy\n"
     ]
    }
   ],
   "source": [
    "from dotenv import load_dotenv\n",
    "import os\n",
    "\n",
    "load_dotenv()\n",
    "\n",
    "OPENAI_API_KEY = os.getenv(\"OPENAI_API_KEY\")\n",
    "print(OPENAI_API_KEY[:2])\n",
    "\n",
    "UPSTAGE_API_KEY = os.getenv(\"UPSTAGE_API_KEY\")\n",
    "print(UPSTAGE_API_KEY[30:])"
   ]
  },
  {
   "cell_type": "markdown",
   "metadata": {},
   "source": [
    "`(2) 기본 라이브러리`"
   ]
  },
  {
   "cell_type": "code",
   "execution_count": 4,
   "metadata": {},
   "outputs": [],
   "source": [
    "import re\n",
    "import os, json\n",
    "\n",
    "from textwrap import dedent\n",
    "from pprint import pprint\n",
    "\n",
    "import warnings\n",
    "warnings.filterwarnings(\"ignore\")"
   ]
  },
  {
   "cell_type": "markdown",
   "metadata": {},
   "source": [
    "## 2. StateGraph\n",
    "- 상태(state)를 기반으로 작동하는 그래프 구조\n",
    "- 실습: 레스토랑 메뉴 추천 시스템\n",
    "    - 사용자의 선호도에 따라 메뉴를 추천하고, 메뉴에 대한 정보를 제공"
   ]
  },
  {
   "cell_type": "markdown",
   "metadata": {},
   "source": [
    "`(1) 상태(State)`\n",
    "- 상태는 그래프가 처리하는 데이터의 구조를 정의\n",
    "- 기존 상태를 override (덮어쓰기)"
   ]
  },
  {
   "cell_type": "code",
   "execution_count": 5,
   "metadata": {},
   "outputs": [],
   "source": [
    "from typing import TypedDict\n",
    "\n",
    "# 상태 Schema 정의 - 사용자의 선호도, 추천된 메뉴, 메뉴 정보를 저장\n",
    "class MenuState(TypedDict):\n",
    "    user_preference: str\n",
    "    recommended_menu: str\n",
    "    menu_info: str"
   ]
  },
  {
   "cell_type": "markdown",
   "metadata": {},
   "source": [
    "`(2) 노드(Node)`\n",
    "- 노드는 그래프에서 실제 작업을 수행하는 함수"
   ]
  },
  {
   "cell_type": "code",
   "execution_count": 6,
   "metadata": {},
   "outputs": [],
   "source": [
    "import random\n",
    "\n",
    "def get_user_preference(state: MenuState) -> MenuState:\n",
    "    print(\"---랜덤 사용자 선호도 생성---\")\n",
    "    preferences = [\"육류\", \"해산물\", \"채식\", \"아무거나\"]\n",
    "    preference = random.choice(preferences)\n",
    "    print(f\"생성된 선호도: {preference}\")\n",
    "    return {\"user_preference\": preference}\n",
    "\n",
    "def recommend_menu(state: MenuState) -> MenuState:\n",
    "    print(\"---메뉴 추천---\")\n",
    "    preference = state['user_preference']\n",
    "    if preference == \"육류\":\n",
    "        menu = \"스테이크\"\n",
    "    elif preference == \"해산물\":\n",
    "        menu = \"랍스터 파스타\"\n",
    "    elif preference == \"채식\":\n",
    "        menu = \"그린 샐러드\"\n",
    "    else:\n",
    "        menu = \"오늘의 쉐프 특선\"\n",
    "    print(f\"추천 메뉴: {menu}\")\n",
    "    return {\"recommended_menu\": menu}\n",
    "\n",
    "def provide_menu_info(state: MenuState) -> MenuState:\n",
    "    print(\"---메뉴 정보 제공---\")\n",
    "    menu = state['recommended_menu']\n",
    "    if menu == \"스테이크\":\n",
    "        info = \"최상급 소고기로 만든 juicy한 스테이크입니다. 가격: 30,000원\"\n",
    "    elif menu == \"랍스터 파스타\":\n",
    "        info = \"신선한 랍스터와 al dente 파스타의 조화. 가격: 28,000원\"\n",
    "    elif menu == \"그린 샐러드\":\n",
    "        info = \"신선한 유기농 채소로 만든 건강한 샐러드. 가격: 15,000원\"\n",
    "    else:\n",
    "        info = \"쉐프가 그날그날 엄선한 특별 요리입니다. 가격: 35,000원\"\n",
    "    print(f\"메뉴 정보: {info}\")\n",
    "    return {\"menu_info\": info}"
   ]
  },
  {
   "cell_type": "markdown",
   "metadata": {},
   "source": [
    "`(3) 그래프(Graph) 구성`\n",
    "- 정의한 구성 요소들을 사용하여 전체 그래프를 빌드"
   ]
  },
  {
   "cell_type": "code",
   "execution_count": 7,
   "metadata": {},
   "outputs": [
    {
     "ename": "ValueError",
     "evalue": "Failed to reach https://mermaid.ink/ API while trying to render your graph. Status code: 502.\n\nTo resolve this issue:\n1. Check your internet connection and try again\n2. Try with higher retry settings: `draw_mermaid_png(..., max_retries=5, retry_delay=2.0)`\n3. Use the Pyppeteer rendering method which will render your graph locally in a browser: `draw_mermaid_png(..., draw_method=MermaidDrawMethod.PYPPETEER)`",
     "output_type": "error",
     "traceback": [
      "\u001b[31m---------------------------------------------------------------------------\u001b[39m",
      "\u001b[31mValueError\u001b[39m                                Traceback (most recent call last)",
      "\u001b[36mFile \u001b[39m\u001b[32mc:\\Users\\user\\AppData\\Local\\pypoetry\\Cache\\virtualenvs\\mylangchain-app-SBe-Yh6W-py3.12\\Lib\\site-packages\\IPython\\core\\formatters.py:1036\u001b[39m, in \u001b[36mMimeBundleFormatter.__call__\u001b[39m\u001b[34m(self, obj, include, exclude)\u001b[39m\n\u001b[32m   1033\u001b[39m     method = get_real_method(obj, \u001b[38;5;28mself\u001b[39m.print_method)\n\u001b[32m   1035\u001b[39m     \u001b[38;5;28;01mif\u001b[39;00m method \u001b[38;5;129;01mis\u001b[39;00m \u001b[38;5;129;01mnot\u001b[39;00m \u001b[38;5;28;01mNone\u001b[39;00m:\n\u001b[32m-> \u001b[39m\u001b[32m1036\u001b[39m         \u001b[38;5;28;01mreturn\u001b[39;00m \u001b[43mmethod\u001b[49m\u001b[43m(\u001b[49m\u001b[43minclude\u001b[49m\u001b[43m=\u001b[49m\u001b[43minclude\u001b[49m\u001b[43m,\u001b[49m\u001b[43m \u001b[49m\u001b[43mexclude\u001b[49m\u001b[43m=\u001b[49m\u001b[43mexclude\u001b[49m\u001b[43m)\u001b[49m\n\u001b[32m   1037\u001b[39m     \u001b[38;5;28;01mreturn\u001b[39;00m \u001b[38;5;28;01mNone\u001b[39;00m\n\u001b[32m   1038\u001b[39m \u001b[38;5;28;01melse\u001b[39;00m:\n",
      "\u001b[36mFile \u001b[39m\u001b[32mc:\\Users\\user\\AppData\\Local\\pypoetry\\Cache\\virtualenvs\\mylangchain-app-SBe-Yh6W-py3.12\\Lib\\site-packages\\langgraph\\pregel\\main.py:758\u001b[39m, in \u001b[36mPregel._repr_mimebundle_\u001b[39m\u001b[34m(self, **kwargs)\u001b[39m\n\u001b[32m    754\u001b[39m \u001b[38;5;28;01mdef\u001b[39;00m\u001b[38;5;250m \u001b[39m\u001b[34m_repr_mimebundle_\u001b[39m(\u001b[38;5;28mself\u001b[39m, **kwargs: Any) -> \u001b[38;5;28mdict\u001b[39m[\u001b[38;5;28mstr\u001b[39m, Any]:\n\u001b[32m    755\u001b[39m \u001b[38;5;250m    \u001b[39m\u001b[33;03m\"\"\"Mime bundle used by Jupyter to display the graph\"\"\"\u001b[39;00m\n\u001b[32m    756\u001b[39m     \u001b[38;5;28;01mreturn\u001b[39;00m {\n\u001b[32m    757\u001b[39m         \u001b[33m\"\u001b[39m\u001b[33mtext/plain\u001b[39m\u001b[33m\"\u001b[39m: \u001b[38;5;28mrepr\u001b[39m(\u001b[38;5;28mself\u001b[39m),\n\u001b[32m--> \u001b[39m\u001b[32m758\u001b[39m         \u001b[33m\"\u001b[39m\u001b[33mimage/png\u001b[39m\u001b[33m\"\u001b[39m: \u001b[38;5;28;43mself\u001b[39;49m\u001b[43m.\u001b[49m\u001b[43mget_graph\u001b[49m\u001b[43m(\u001b[49m\u001b[43m)\u001b[49m\u001b[43m.\u001b[49m\u001b[43mdraw_mermaid_png\u001b[49m\u001b[43m(\u001b[49m\u001b[43m)\u001b[49m,\n\u001b[32m    759\u001b[39m     }\n",
      "\u001b[36mFile \u001b[39m\u001b[32mc:\\Users\\user\\AppData\\Local\\pypoetry\\Cache\\virtualenvs\\mylangchain-app-SBe-Yh6W-py3.12\\Lib\\site-packages\\langchain_core\\runnables\\graph.py:702\u001b[39m, in \u001b[36mGraph.draw_mermaid_png\u001b[39m\u001b[34m(self, curve_style, node_colors, wrap_label_n_words, output_file_path, draw_method, background_color, padding, max_retries, retry_delay, frontmatter_config)\u001b[39m\n\u001b[32m    692\u001b[39m \u001b[38;5;28;01mfrom\u001b[39;00m\u001b[38;5;250m \u001b[39m\u001b[34;01mlangchain_core\u001b[39;00m\u001b[34;01m.\u001b[39;00m\u001b[34;01mrunnables\u001b[39;00m\u001b[34;01m.\u001b[39;00m\u001b[34;01mgraph_mermaid\u001b[39;00m\u001b[38;5;250m \u001b[39m\u001b[38;5;28;01mimport\u001b[39;00m (  \u001b[38;5;66;03m# noqa: PLC0415\u001b[39;00m\n\u001b[32m    693\u001b[39m     draw_mermaid_png,\n\u001b[32m    694\u001b[39m )\n\u001b[32m    696\u001b[39m mermaid_syntax = \u001b[38;5;28mself\u001b[39m.draw_mermaid(\n\u001b[32m    697\u001b[39m     curve_style=curve_style,\n\u001b[32m    698\u001b[39m     node_colors=node_colors,\n\u001b[32m    699\u001b[39m     wrap_label_n_words=wrap_label_n_words,\n\u001b[32m    700\u001b[39m     frontmatter_config=frontmatter_config,\n\u001b[32m    701\u001b[39m )\n\u001b[32m--> \u001b[39m\u001b[32m702\u001b[39m \u001b[38;5;28;01mreturn\u001b[39;00m \u001b[43mdraw_mermaid_png\u001b[49m\u001b[43m(\u001b[49m\n\u001b[32m    703\u001b[39m \u001b[43m    \u001b[49m\u001b[43mmermaid_syntax\u001b[49m\u001b[43m=\u001b[49m\u001b[43mmermaid_syntax\u001b[49m\u001b[43m,\u001b[49m\n\u001b[32m    704\u001b[39m \u001b[43m    \u001b[49m\u001b[43moutput_file_path\u001b[49m\u001b[43m=\u001b[49m\u001b[43moutput_file_path\u001b[49m\u001b[43m,\u001b[49m\n\u001b[32m    705\u001b[39m \u001b[43m    \u001b[49m\u001b[43mdraw_method\u001b[49m\u001b[43m=\u001b[49m\u001b[43mdraw_method\u001b[49m\u001b[43m,\u001b[49m\n\u001b[32m    706\u001b[39m \u001b[43m    \u001b[49m\u001b[43mbackground_color\u001b[49m\u001b[43m=\u001b[49m\u001b[43mbackground_color\u001b[49m\u001b[43m,\u001b[49m\n\u001b[32m    707\u001b[39m \u001b[43m    \u001b[49m\u001b[43mpadding\u001b[49m\u001b[43m=\u001b[49m\u001b[43mpadding\u001b[49m\u001b[43m,\u001b[49m\n\u001b[32m    708\u001b[39m \u001b[43m    \u001b[49m\u001b[43mmax_retries\u001b[49m\u001b[43m=\u001b[49m\u001b[43mmax_retries\u001b[49m\u001b[43m,\u001b[49m\n\u001b[32m    709\u001b[39m \u001b[43m    \u001b[49m\u001b[43mretry_delay\u001b[49m\u001b[43m=\u001b[49m\u001b[43mretry_delay\u001b[49m\u001b[43m,\u001b[49m\n\u001b[32m    710\u001b[39m \u001b[43m\u001b[49m\u001b[43m)\u001b[49m\n",
      "\u001b[36mFile \u001b[39m\u001b[32mc:\\Users\\user\\AppData\\Local\\pypoetry\\Cache\\virtualenvs\\mylangchain-app-SBe-Yh6W-py3.12\\Lib\\site-packages\\langchain_core\\runnables\\graph_mermaid.py:310\u001b[39m, in \u001b[36mdraw_mermaid_png\u001b[39m\u001b[34m(mermaid_syntax, output_file_path, draw_method, background_color, padding, max_retries, retry_delay)\u001b[39m\n\u001b[32m    304\u001b[39m     img_bytes = asyncio.run(\n\u001b[32m    305\u001b[39m         _render_mermaid_using_pyppeteer(\n\u001b[32m    306\u001b[39m             mermaid_syntax, output_file_path, background_color, padding\n\u001b[32m    307\u001b[39m         )\n\u001b[32m    308\u001b[39m     )\n\u001b[32m    309\u001b[39m \u001b[38;5;28;01melif\u001b[39;00m draw_method == MermaidDrawMethod.API:\n\u001b[32m--> \u001b[39m\u001b[32m310\u001b[39m     img_bytes = \u001b[43m_render_mermaid_using_api\u001b[49m\u001b[43m(\u001b[49m\n\u001b[32m    311\u001b[39m \u001b[43m        \u001b[49m\u001b[43mmermaid_syntax\u001b[49m\u001b[43m,\u001b[49m\n\u001b[32m    312\u001b[39m \u001b[43m        \u001b[49m\u001b[43moutput_file_path\u001b[49m\u001b[43m=\u001b[49m\u001b[43moutput_file_path\u001b[49m\u001b[43m,\u001b[49m\n\u001b[32m    313\u001b[39m \u001b[43m        \u001b[49m\u001b[43mbackground_color\u001b[49m\u001b[43m=\u001b[49m\u001b[43mbackground_color\u001b[49m\u001b[43m,\u001b[49m\n\u001b[32m    314\u001b[39m \u001b[43m        \u001b[49m\u001b[43mmax_retries\u001b[49m\u001b[43m=\u001b[49m\u001b[43mmax_retries\u001b[49m\u001b[43m,\u001b[49m\n\u001b[32m    315\u001b[39m \u001b[43m        \u001b[49m\u001b[43mretry_delay\u001b[49m\u001b[43m=\u001b[49m\u001b[43mretry_delay\u001b[49m\u001b[43m,\u001b[49m\n\u001b[32m    316\u001b[39m \u001b[43m    \u001b[49m\u001b[43m)\u001b[49m\n\u001b[32m    317\u001b[39m \u001b[38;5;28;01melse\u001b[39;00m:\n\u001b[32m    318\u001b[39m     supported_methods = \u001b[33m\"\u001b[39m\u001b[33m, \u001b[39m\u001b[33m\"\u001b[39m.join([m.value \u001b[38;5;28;01mfor\u001b[39;00m m \u001b[38;5;129;01min\u001b[39;00m MermaidDrawMethod])\n",
      "\u001b[36mFile \u001b[39m\u001b[32mc:\\Users\\user\\AppData\\Local\\pypoetry\\Cache\\virtualenvs\\mylangchain-app-SBe-Yh6W-py3.12\\Lib\\site-packages\\langchain_core\\runnables\\graph_mermaid.py:463\u001b[39m, in \u001b[36m_render_mermaid_using_api\u001b[39m\u001b[34m(mermaid_syntax, output_file_path, background_color, file_type, max_retries, retry_delay)\u001b[39m\n\u001b[32m    458\u001b[39m     \u001b[38;5;66;03m# For other status codes, fail immediately\u001b[39;00m\n\u001b[32m    459\u001b[39m     msg = (\n\u001b[32m    460\u001b[39m         \u001b[33m\"\u001b[39m\u001b[33mFailed to reach https://mermaid.ink/ API while trying to render \u001b[39m\u001b[33m\"\u001b[39m\n\u001b[32m    461\u001b[39m         \u001b[33mf\u001b[39m\u001b[33m\"\u001b[39m\u001b[33myour graph. Status code: \u001b[39m\u001b[38;5;132;01m{\u001b[39;00mresponse.status_code\u001b[38;5;132;01m}\u001b[39;00m\u001b[33m.\u001b[39m\u001b[38;5;130;01m\\n\u001b[39;00m\u001b[38;5;130;01m\\n\u001b[39;00m\u001b[33m\"\u001b[39m\n\u001b[32m    462\u001b[39m     ) + error_msg_suffix\n\u001b[32m--> \u001b[39m\u001b[32m463\u001b[39m     \u001b[38;5;28;01mraise\u001b[39;00m \u001b[38;5;167;01mValueError\u001b[39;00m(msg)\n\u001b[32m    465\u001b[39m \u001b[38;5;28;01mexcept\u001b[39;00m (requests.RequestException, requests.Timeout) \u001b[38;5;28;01mas\u001b[39;00m e:\n\u001b[32m    466\u001b[39m     \u001b[38;5;28;01mif\u001b[39;00m attempt < max_retries:\n\u001b[32m    467\u001b[39m         \u001b[38;5;66;03m# Exponential backoff with jitter\u001b[39;00m\n",
      "\u001b[31mValueError\u001b[39m: Failed to reach https://mermaid.ink/ API while trying to render your graph. Status code: 502.\n\nTo resolve this issue:\n1. Check your internet connection and try again\n2. Try with higher retry settings: `draw_mermaid_png(..., max_retries=5, retry_delay=2.0)`\n3. Use the Pyppeteer rendering method which will render your graph locally in a browser: `draw_mermaid_png(..., draw_method=MermaidDrawMethod.PYPPETEER)`"
     ]
    },
    {
     "data": {
      "text/plain": [
       "<langgraph.graph.state.CompiledStateGraph at 0x20183570e00>"
      ]
     },
     "execution_count": 7,
     "metadata": {},
     "output_type": "execute_result"
    }
   ],
   "source": [
    "from langgraph.graph import StateGraph, START, END\n",
    "\n",
    "# 그래프 빌더 생성\n",
    "builder = StateGraph(MenuState)\n",
    "\n",
    "# 노드 추가\n",
    "builder.add_node(\"get_preference\", get_user_preference)\n",
    "builder.add_node(\"recommend\", recommend_menu)\n",
    "builder.add_node(\"provide_info\", provide_menu_info)\n",
    "\n",
    "# 엣지 추가\n",
    "builder.add_edge(START, \"get_preference\")\n",
    "builder.add_edge(\"get_preference\", \"recommend\")\n",
    "builder.add_edge(\"recommend\", \"provide_info\")\n",
    "builder.add_edge(\"provide_info\", END)\n",
    "\n",
    "# 그래프 컴파일\n",
    "graph = builder.compile()\n",
    "\n",
    "graph"
   ]
  },
  {
   "cell_type": "code",
   "execution_count": 9,
   "metadata": {},
   "outputs": [
    {
     "name": "stdout",
     "output_type": "stream",
     "text": [
      "Mermaid Code:\n",
      "---\n",
      "config:\n",
      "  flowchart:\n",
      "    curve: linear\n",
      "---\n",
      "graph TD;\n",
      "\t__start__([<p>__start__</p>]):::first\n",
      "\tget_preference(get_preference)\n",
      "\trecommend(recommend)\n",
      "\tprovide_info(provide_info)\n",
      "\t__end__([<p>__end__</p>]):::last\n",
      "\t__start__ --> get_preference;\n",
      "\tget_preference --> recommend;\n",
      "\trecommend --> provide_info;\n",
      "\tprovide_info --> __end__;\n",
      "\tclassDef default fill:#f2f0ff,line-height:1.2\n",
      "\tclassDef first fill-opacity:0\n",
      "\tclassDef last fill:#bfb6fc\n",
      "\n"
     ]
    }
   ],
   "source": [
    "from IPython.display import Image, display\n",
    "\n",
    "# 그래프 시각화\n",
    "#display(Image(graph.get_graph().draw_mermaid_png()))\n",
    "\n",
    "mermaid_code = graph.get_graph().draw_mermaid()\n",
    "print(\"Mermaid Code:\")\n",
    "print(mermaid_code)"
   ]
  },
  {
   "cell_type": "markdown",
   "metadata": {},
   "source": [
    "* https://mermaid.live/ 에서  mermain_code 로 직접 확인한다.\n",
    "\n",
    "* [Graph이미지](https://www.mermaidchart.com/play?utm_source=mermaid_live_editor&utm_medium=share#pako:eNplkEEOwiAQRa9C6qZNrFYXLmjTlUdwp6ZBOtOSIBCKJsZ4d1tqiOiKGebBf_BMuG4hoUlnmenJYV-e1Mk1zeCYHZf0WJk6dNXa1OeMUorCDm4CO3CNsYBgQXFI4zabCAtcX6-g2jRUft9YfRctNEKhTr-bbBYYuRDv6xAu2ZwdtEie1ySOLv_lPBUcysjNz74lyl9FT3xM_JCPGsMekLSA7CYdQSElXeAWC8SlFAryHkTXO7pZbaMD_vM8nmvDuHAPWkTA9MDPdRe87JAnrzcCGprA)"
   ]
  },
  {
   "cell_type": "code",
   "execution_count": 8,
   "metadata": {},
   "outputs": [
    {
     "name": "stdout",
     "output_type": "stream",
     "text": [
      "---랜덤 사용자 선호도 생성---\n",
      "생성된 선호도: 채식\n",
      "---메뉴 추천---\n",
      "추천 메뉴: 그린 샐러드\n",
      "---메뉴 정보 제공---\n",
      "메뉴 정보: 신선한 유기농 채소로 만든 건강한 샐러드. 가격: 15,000원\n",
      "\n",
      "=== 결과 ===\n",
      "선호도: 채식\n",
      "추천 메뉴: 그린 샐러드\n",
      "메뉴 정보: 신선한 유기농 채소로 만든 건강한 샐러드. 가격: 15,000원\n",
      "============\n",
      "\n",
      "****************************************************************************************************\n",
      "\n",
      "---랜덤 사용자 선호도 생성---\n",
      "생성된 선호도: 육류\n",
      "---메뉴 추천---\n",
      "추천 메뉴: 스테이크\n",
      "---메뉴 정보 제공---\n",
      "메뉴 정보: 최상급 소고기로 만든 juicy한 스테이크입니다. 가격: 30,000원\n",
      "\n",
      "=== 결과 ===\n",
      "선호도: 육류\n",
      "추천 메뉴: 스테이크\n",
      "메뉴 정보: 최상급 소고기로 만든 juicy한 스테이크입니다. 가격: 30,000원\n",
      "============\n",
      "\n",
      "****************************************************************************************************\n",
      "\n"
     ]
    }
   ],
   "source": [
    "# 그래프 실행\n",
    "\n",
    "def print_result(result: MenuState):\n",
    "    print(\"\\n=== 결과 ===\")\n",
    "    print(\"선호도:\", result['user_preference'])\n",
    "    print(\"추천 메뉴:\", result['recommended_menu'])\n",
    "    print(\"메뉴 정보:\", result['menu_info'])\n",
    "    print(\"============\\n\")\n",
    "\n",
    "\n",
    "# 초기 입려\n",
    "inputs = {\"user_preference\": \"\"}\n",
    "\n",
    "# 여러 번 실행하여 테스트 \n",
    "for _ in range(2):\n",
    "    result = graph.invoke(inputs)\n",
    "    print_result(result)\n",
    "    print(\"*\"*100)\n",
    "    print()"
   ]
  },
  {
   "cell_type": "markdown",
   "metadata": {},
   "source": [
    "## 3. 조건부 엣지(Edge) : RAG 적용\n",
    "- 엣지는 노드 간의 연결을 정의\n",
    "- 조건부 엣지: 사용자 입력이 메뉴 관련인지 여부에 따라 다른 경로로 진행"
   ]
  },
  {
   "cell_type": "markdown",
   "metadata": {},
   "source": [
    "`(1) State 정의`\n",
    "- 사용자 입력이 메뉴 추천이면 벡터저장소에서 검색하여 RAG Chain을 실행하고,\n",
    "- 그렇지 않은 경우에는 LLM이 답변을 생성"
   ]
  },
  {
   "cell_type": "code",
   "execution_count": 10,
   "metadata": {},
   "outputs": [],
   "source": [
    "from typing import List, TypedDict\n",
    "\n",
    "# state 스키마 \n",
    "class MenuState(TypedDict):\n",
    "    user_query: str\n",
    "    is_menu_related: bool\n",
    "    search_results: List[str]\n",
    "    final_answer: str"
   ]
  },
  {
   "cell_type": "markdown",
   "metadata": {},
   "source": [
    "`(2) 벡터저장소 검색 도구`\n",
    "- 메뉴 검색을 위한 벡터저장소를 초기화 (기존 저장소를 로드)"
   ]
  },
  {
   "cell_type": "code",
   "execution_count": 11,
   "metadata": {},
   "outputs": [],
   "source": [
    "from langchain_community.vectorstores import FAISS\n",
    "from langchain_upstage import UpstageEmbeddings\n",
    "\n",
    "embeddings_model = UpstageEmbeddings(model=\"solar-embedding-1-large\")\n",
    "\n",
    "# menu db 벡터 저장소 로드\n",
    "menu_db = FAISS.load_local(\n",
    "    \"../db/menu_db\", \n",
    "    embeddings_model, \n",
    "    allow_dangerous_deserialization=True\n",
    ")"
   ]
  },
  {
   "cell_type": "markdown",
   "metadata": {},
   "source": [
    "`(3) 노드(Node)`"
   ]
  },
  {
   "cell_type": "code",
   "execution_count": 12,
   "metadata": {},
   "outputs": [
    {
     "name": "stdout",
     "output_type": "stream",
     "text": [
      "solar-pro\n"
     ]
    }
   ],
   "source": [
    "from langchain_core.prompts import ChatPromptTemplate\n",
    "from langchain_core.output_parsers import StrOutputParser\n",
    "\n",
    "# from langchain_openai import ChatOpenAI\n",
    "\n",
    "# llm = ChatOpenAI(model=\"gpt-4o-mini\")\n",
    "\n",
    "from langchain_upstage import ChatUpstage\n",
    "llm = ChatUpstage(\n",
    "        model=\"solar-pro\",\n",
    "        base_url=\"https://api.upstage.ai/v1\",\n",
    "        temperature=0.5\n",
    ")\n",
    "print(llm.model_name)"
   ]
  },
  {
   "cell_type": "code",
   "execution_count": 13,
   "metadata": {},
   "outputs": [],
   "source": [
    "\n",
    "def get_user_query(state: MenuState) -> MenuState:\n",
    "    print('1 ==> get_user_query()')\n",
    "    #user_query = input(\"무엇을 도와드릴까요? \")\n",
    "    user_query = state['user_query']\n",
    "    return {\"user_query\": user_query}\n"
   ]
  },
  {
   "cell_type": "code",
   "execution_count": 14,
   "metadata": {},
   "outputs": [],
   "source": [
    "\n",
    "def analyze_input(state: MenuState) -> MenuState:\n",
    "    print('2 ==> analyze_input()')\n",
    "    analyze_template = \"\"\"\n",
    "    사용자의 입력을 분석하여 레스토랑 메뉴 추천이나 음식 정보에 관한 질문인지 판단하세요.\n",
    "\n",
    "    사용자 입력: {user_query}\n",
    "\n",
    "    레스토랑 메뉴나 음식 정보에 관한 질문이면 \"True\", 아니면 \"False\"로 답변하세요.\n",
    "\n",
    "    답변:\n",
    "    \"\"\"\n",
    "    analyze_prompt = ChatPromptTemplate.from_template(analyze_template)\n",
    "    analyze_chain = analyze_prompt | llm | StrOutputParser()\n",
    "    \n",
    "    result = analyze_chain.invoke({\"user_query\": state['user_query']})\n",
    "    print('====> result.strip().lower()', result.strip().lower())\n",
    "    is_menu_related = result.strip().lower() == \"true\"\n",
    "    \n",
    "    return {\"is_menu_related\": is_menu_related}\n"
   ]
  },
  {
   "cell_type": "code",
   "execution_count": 15,
   "metadata": {},
   "outputs": [],
   "source": [
    "\n",
    "# 'search_menu_info' 함수는 벡터 데이터베이스에서 관련 메뉴 정보를 검색합니다.\n",
    "def search_menu_info(state: MenuState) -> MenuState:\n",
    "    print('3 ==> search_menu_info()')\n",
    "    \n",
    "    # 'menu_db'에서 사용자 질의와 유사한 문서 2개를 검색합니다.\n",
    "    results = menu_db.similarity_search(state['user_query'], k=2)\n",
    "    \n",
    "    # 검색된 문서들의 내용만 추출하여 리스트로 만듭니다.\n",
    "    search_results = [doc.page_content for doc in results]\n",
    "    \n",
    "    # 검색 결과를 상태에 저장하여 다음 단계에 전달합니다.\n",
    "    return {\"search_results\": search_results}\n",
    "\n",
    "# 'generate_menu_response' 함수는 검색된 메뉴 정보를 활용하여 답변을 생성합니다.\n",
    "def generate_menu_response(state: MenuState) -> MenuState:\n",
    "    print('4 ==> generate_menu_response()')\n",
    "    \n",
    "    # 답변 생성에 사용될 프롬프트 템플릿을 정의합니다.\n",
    "    response_template = \"\"\"\n",
    "    사용자 입력: {user_query}\n",
    "    메뉴 관련 검색 결과: {search_results}\n",
    "\n",
    "    위 정보를 바탕으로 사용자의 메뉴 관련 질문에 대한 상세한 답변을 생성하세요. \n",
    "    검색 결과의 정보를 활용하여 정확하고 유용한 정보를 제공하세요.\n",
    "\n",
    "    답변:\n",
    "    \"\"\"\n",
    "    \n",
    "    # 템플릿을 기반으로 프롬프트 체인을 구성합니다.\n",
    "    # 'response_prompt'가 LLM에 입력되고, 결과는 문자열로 파싱됩니다.\n",
    "    response_prompt = ChatPromptTemplate.from_template(response_template)\n",
    "    response_chain = response_prompt | llm | StrOutputParser()\n",
    "    \n",
    "    # 구성된 체인을 실행하여 최종 답변을 얻습니다.\n",
    "    final_answer = response_chain.invoke({\"user_query\": state['user_query'], \"search_results\": state['search_results']})\n",
    "    print(f\"\\n메뉴 어시스턴트: {final_answer}\")\n",
    "    \n",
    "    # 생성된 답변을 상태에 저장합니다.\n",
    "    return {\"final_answer\": final_answer}\n",
    "\n",
    "# 'generate_general_response' 함수는 메뉴와 관련 없는 일반적인 질문에 응답합니다.\n",
    "def generate_general_response(state: MenuState) -> MenuState:\n",
    "    print('5 ==> generate_general_response()')\n",
    "    \n",
    "    # 일반적인 대화에 사용될 프롬프트 템플릿을 정의합니다.\n",
    "    response_template = \"\"\"\n",
    "    사용자 입력: {user_query}\n",
    "\n",
    "    위 입력은 레스토랑 메뉴나 음식과 관련이 없습니다. \n",
    "    일반적인 대화 맥락에서 적절한 답변을 생성하세요.\n",
    "\n",
    "    답변:\n",
    "    \"\"\"\n",
    "    \n",
    "    # 템플릿을 기반으로 프롬프트 체인을 구성합니다.\n",
    "    response_prompt = ChatPromptTemplate.from_template(response_template)\n",
    "    response_chain = response_prompt | llm | StrOutputParser()\n",
    "    \n",
    "    # 체인을 실행하여 일반적인 답변을 생성합니다.\n",
    "    final_answer = response_chain.invoke({\"user_query\": state['user_query']})\n",
    "    print(f\"\\n일반 어시스턴트: {final_answer}\")\n",
    "    \n",
    "    # 생성된 답변을 상태에 저장합니다.\n",
    "    return {\"final_answer\": final_answer}"
   ]
  },
  {
   "cell_type": "markdown",
   "metadata": {},
   "source": [
    "`(4) 엣지(Edge)`"
   ]
  },
  {
   "cell_type": "code",
   "execution_count": 16,
   "metadata": {},
   "outputs": [],
   "source": [
    "from typing import Literal\n",
    "\n",
    "def decide_next_step(state: MenuState) -> Literal[\"search_menu_info\", \"generate_general_response\"]:\n",
    "    # 현재 상태에서 'is_menu_related' 값을 출력하여 다음 결정 과정을 로그로 남깁니다.\n",
    "    print('6 Edge ==> decide_next_step() is_menu_related = ', state['is_menu_related'])\n",
    "    \n",
    "    # 만약 'is_menu_related'가 True이면 (질문이 메뉴 관련 질문일 때),\n",
    "    # 메뉴 정보를 검색하는 노드로 이동하도록 \"search_menu_info\"를 반환합니다.\n",
    "    if state['is_menu_related']:\n",
    "        return \"search_menu_info\"\n",
    "    \n",
    "    # 그렇지 않다면 (질문이 일반적인 질문일 때),\n",
    "    # 일반적인 답변을 생성하는 노드로 이동하도록 \"generate_general_response\"를 반환합니다.\n",
    "    else:\n",
    "        return \"generate_general_response\""
   ]
  },
  {
   "cell_type": "markdown",
   "metadata": {},
   "source": [
    "`(5) 그래프(Graph) 구성`"
   ]
  },
  {
   "cell_type": "code",
   "execution_count": 17,
   "metadata": {},
   "outputs": [
    {
     "data": {
      "text/plain": [
       "{'get_user_query': StateNodeSpec(runnable=get_user_query(tags=None, recurse=True, explode_args=False, func_accepts={}), metadata=None, input_schema=<class '__main__.MenuState'>, retry_policy=None, cache_policy=None, ends=(), defer=False),\n",
       " 'analyze_input': StateNodeSpec(runnable=analyze_input(tags=None, recurse=True, explode_args=False, func_accepts={}), metadata=None, input_schema=<class '__main__.MenuState'>, retry_policy=None, cache_policy=None, ends=(), defer=False),\n",
       " 'search_menu_info': StateNodeSpec(runnable=search_menu_info(tags=None, recurse=True, explode_args=False, func_accepts={}), metadata=None, input_schema=<class '__main__.MenuState'>, retry_policy=None, cache_policy=None, ends=(), defer=False),\n",
       " 'generate_menu_response': StateNodeSpec(runnable=generate_menu_response(tags=None, recurse=True, explode_args=False, func_accepts={}), metadata=None, input_schema=<class '__main__.MenuState'>, retry_policy=None, cache_policy=None, ends=(), defer=False),\n",
       " 'generate_general_response': StateNodeSpec(runnable=generate_general_response(tags=None, recurse=True, explode_args=False, func_accepts={}), metadata=None, input_schema=<class '__main__.MenuState'>, retry_policy=None, cache_policy=None, ends=(), defer=False)}"
      ]
     },
     "execution_count": 17,
     "metadata": {},
     "output_type": "execute_result"
    }
   ],
   "source": [
    "from langgraph.graph import StateGraph, START, END\n",
    "\n",
    "# StateGraph 클래스를 사용하여 그래프를 구성합니다. \n",
    "# MenuState는 그래프가 공유하는 상태(state)의 스키마를 정의합니다.\n",
    "builder = StateGraph(MenuState)\n",
    "\n",
    "# --- 노드 추가 ---\n",
    "# 각 노드는 그래프의 한 단계를 나타내며, 특정 작업을 수행합니다.\n",
    "# \"get_user_query\": 사용자의 입력(질문)을 가져오는 노드\n",
    "# MenuState 객체의 user_query 변수에 값을 저장하는 노드\n",
    "builder.add_node(\"get_user_query\", get_user_query)\n",
    "\n",
    "# \"analyze_input\": 사용자 질의가 메뉴와 관련 있는지 분석하는 노드\n",
    "# MenuState 객체의 is_menu_related 변수에 값을 저장하는 노드\n",
    "builder.add_node(\"analyze_input\", analyze_input)\n",
    "\n",
    "# \"search_menu_info\": 메뉴 관련 질의일 경우, 벡터DB에서 정보를 검색하는 노드\n",
    "# MenuState 객체의 search_results 변수에 값을 저장하는 노드\n",
    "builder.add_node(\"search_menu_info\", search_menu_info)\n",
    "\n",
    "# \"generate_menu_response\": 검색된 메뉴 정보를 바탕으로 답변을 생성하는 노드\n",
    "# MenuState 객체의 final_answer 변수에 값을 저장하는 노드\n",
    "builder.add_node(\"generate_menu_response\", generate_menu_response)\n",
    "\n",
    "# \"generate_general_response\": 메뉴와 관련 없는 일반적인 질문에 답변하는 노드\n",
    "# MenuState 객체의 final_answer 변수에 값을 저장하는 노드\n",
    "builder.add_node(\"generate_general_response\", generate_general_response)\n",
    "\n",
    "builder.nodes"
   ]
  },
  {
   "cell_type": "code",
   "execution_count": 18,
   "metadata": {},
   "outputs": [
    {
     "data": {
      "text/plain": [
       "{('__start__', 'get_user_query'), ('get_user_query', 'analyze_input')}"
      ]
     },
     "execution_count": 18,
     "metadata": {},
     "output_type": "execute_result"
    }
   ],
   "source": [
    "# --- 엣지(연결) 추가 ---\n",
    "# 그래프의 시작점을 정의하고, 노드들을 순서대로 연결합니다.\n",
    "# START에서 \"get_user_query\" 노드로 시작합니다.\n",
    "builder.add_edge(START, \"get_user_query\")\n",
    "\n",
    "# \"get_user_query\" 노드에서 \"analyze_input\" 노드로 이동합니다.\n",
    "builder.add_edge(\"get_user_query\", \"analyze_input\")\n",
    "\n",
    "builder.edges"
   ]
  },
  {
   "cell_type": "code",
   "execution_count": 21,
   "metadata": {},
   "outputs": [
    {
     "ename": "ValueError",
     "evalue": "Branch with name `decide_next_step` already exists for node `analyze_input`",
     "output_type": "error",
     "traceback": [
      "\u001b[31m---------------------------------------------------------------------------\u001b[39m",
      "\u001b[31mValueError\u001b[39m                                Traceback (most recent call last)",
      "\u001b[36mCell\u001b[39m\u001b[36m \u001b[39m\u001b[32mIn[21]\u001b[39m\u001b[32m, line 4\u001b[39m\n\u001b[32m      1\u001b[39m \u001b[38;5;66;03m# --- 조건부 엣지 추가 ---\u001b[39;00m\n\u001b[32m      2\u001b[39m \u001b[38;5;66;03m# \"analyze_input\" 노드의 결과에 따라 동적으로 다음 노드를 결정합니다.\u001b[39;00m\n\u001b[32m      3\u001b[39m \u001b[38;5;66;03m# decide_next_step 함수가 반환하는 값에 따라 흐름이 분기됩니다.\u001b[39;00m\n\u001b[32m----> \u001b[39m\u001b[32m4\u001b[39m \u001b[43mbuilder\u001b[49m\u001b[43m.\u001b[49m\u001b[43madd_conditional_edges\u001b[49m\u001b[43m(\u001b[49m\n\u001b[32m      5\u001b[39m \u001b[43m    \u001b[49m\u001b[33;43m\"\u001b[39;49m\u001b[33;43manalyze_input\u001b[39;49m\u001b[33;43m\"\u001b[39;49m\u001b[43m,\u001b[49m\u001b[43m            \u001b[49m\u001b[38;5;66;43;03m# 현재 노드: \"analyze_input\"\u001b[39;49;00m\n\u001b[32m      6\u001b[39m \u001b[43m    \u001b[49m\u001b[43mdecide_next_step\u001b[49m\u001b[43m,\u001b[49m\u001b[43m           \u001b[49m\u001b[38;5;66;43;03m# 라우팅 함수: 'decide_next_step'\u001b[39;49;00m\n\u001b[32m      7\u001b[39m \u001b[43m    \u001b[49m\u001b[43m{\u001b[49m\n\u001b[32m      8\u001b[39m \u001b[43m        \u001b[49m\u001b[38;5;66;43;03m# 'decide_next_step'이 \"search_menu_info\"를 반환하면, 해당 노드로 이동\u001b[39;49;00m\n\u001b[32m      9\u001b[39m \u001b[43m        \u001b[49m\u001b[33;43m\"\u001b[39;49m\u001b[33;43msearch_menu_info\u001b[39;49m\u001b[33;43m\"\u001b[39;49m\u001b[43m:\u001b[49m\u001b[43m \u001b[49m\u001b[33;43m\"\u001b[39;49m\u001b[33;43msearch_menu_info\u001b[39;49m\u001b[33;43m\"\u001b[39;49m\u001b[43m,\u001b[49m\n\u001b[32m     10\u001b[39m \u001b[43m        \u001b[49m\u001b[38;5;66;43;03m# 'decide_next_step'이 \"generate_general_response\"를 반환하면, 해당 노드로 이동\u001b[39;49;00m\n\u001b[32m     11\u001b[39m \u001b[43m        \u001b[49m\u001b[33;43m\"\u001b[39;49m\u001b[33;43mgenerate_general_response\u001b[39;49m\u001b[33;43m\"\u001b[39;49m\u001b[43m:\u001b[49m\u001b[43m \u001b[49m\u001b[33;43m\"\u001b[39;49m\u001b[33;43mgenerate_general_response\u001b[39;49m\u001b[33;43m\"\u001b[39;49m\n\u001b[32m     12\u001b[39m \u001b[43m    \u001b[49m\u001b[43m}\u001b[49m\n\u001b[32m     13\u001b[39m \u001b[43m)\u001b[49m\n\u001b[32m     14\u001b[39m builder.edges\n",
      "\u001b[36mFile \u001b[39m\u001b[32mc:\\Users\\user\\AppData\\Local\\pypoetry\\Cache\\virtualenvs\\mylangchain-app-SBe-Yh6W-py3.12\\Lib\\site-packages\\langgraph\\graph\\state.py:644\u001b[39m, in \u001b[36mStateGraph.add_conditional_edges\u001b[39m\u001b[34m(self, source, path, path_map)\u001b[39m\n\u001b[32m    642\u001b[39m \u001b[38;5;66;03m# validate the condition\u001b[39;00m\n\u001b[32m    643\u001b[39m \u001b[38;5;28;01mif\u001b[39;00m name \u001b[38;5;129;01min\u001b[39;00m \u001b[38;5;28mself\u001b[39m.branches[source]:\n\u001b[32m--> \u001b[39m\u001b[32m644\u001b[39m     \u001b[38;5;28;01mraise\u001b[39;00m \u001b[38;5;167;01mValueError\u001b[39;00m(\n\u001b[32m    645\u001b[39m         \u001b[33mf\u001b[39m\u001b[33m\"\u001b[39m\u001b[33mBranch with name `\u001b[39m\u001b[38;5;132;01m{\u001b[39;00mpath.name\u001b[38;5;132;01m}\u001b[39;00m\u001b[33m` already exists for node `\u001b[39m\u001b[38;5;132;01m{\u001b[39;00msource\u001b[38;5;132;01m}\u001b[39;00m\u001b[33m`\u001b[39m\u001b[33m\"\u001b[39m\n\u001b[32m    646\u001b[39m     )\n\u001b[32m    647\u001b[39m \u001b[38;5;66;03m# save it\u001b[39;00m\n\u001b[32m    648\u001b[39m \u001b[38;5;28mself\u001b[39m.branches[source][name] = BranchSpec.from_path(path, path_map, \u001b[38;5;28;01mTrue\u001b[39;00m)\n",
      "\u001b[31mValueError\u001b[39m: Branch with name `decide_next_step` already exists for node `analyze_input`"
     ]
    }
   ],
   "source": [
    "\n",
    "# --- 조건부 엣지 추가 ---\n",
    "# \"analyze_input\" 노드의 결과에 따라 동적으로 다음 노드를 결정합니다.\n",
    "# decide_next_step 함수가 반환하는 값에 따라 흐름이 분기됩니다.\n",
    "builder.add_conditional_edges(\n",
    "    \"analyze_input\",            # 현재 노드: \"analyze_input\"\n",
    "    decide_next_step,           # 라우팅 함수: 'decide_next_step'\n",
    "    {\n",
    "        # 'decide_next_step'이 \"search_menu_info\"를 반환하면, 해당 노드로 이동\n",
    "        \"search_menu_info\": \"search_menu_info\",\n",
    "        # 'decide_next_step'이 \"generate_general_response\"를 반환하면, 해당 노드로 이동\n",
    "        \"generate_general_response\": \"generate_general_response\"\n",
    "    }\n",
    ")\n",
    "builder.edges\n"
   ]
  },
  {
   "cell_type": "code",
   "execution_count": 22,
   "metadata": {},
   "outputs": [],
   "source": [
    "\n",
    "# --- 최종 엣지 ---\n",
    "# 분기된 흐름이 최종 답변을 생성하고 종료되도록 연결합니다.\n",
    "# \"search_menu_info\" 노드는 \"generate_menu_response\" 노드로 이어집니다.\n",
    "builder.add_edge(\"search_menu_info\", \"generate_menu_response\")\n",
    "\n",
    "# 메뉴 관련 답변 생성 후 그래프를 종료합니다.\n",
    "builder.add_edge(\"generate_menu_response\", END)\n",
    "\n",
    "# 일반적인 답변 생성 후 그래프를 종료합니다.\n",
    "builder.add_edge(\"generate_general_response\", END)\n",
    "\n",
    "# --- 그래프 컴파일 ---\n",
    "# 정의된 노드와 엣지를 기반으로 실행 가능한 그래프를 최적화합니다.\n",
    "graph = builder.compile()"
   ]
  },
  {
   "cell_type": "code",
   "execution_count": null,
   "metadata": {},
   "outputs": [],
   "source": [
    "from IPython.display import Image, display\n",
    "\n",
    "# 그래프 시각화\n",
    "#display(Image(graph.get_graph().draw_mermaid_png()))\n",
    "mermaid_code = graph.get_graph().draw_mermaid()\n",
    "print(\"Mermaid Code:\")\n",
    "print(mermaid_code)"
   ]
  },
  {
   "cell_type": "code",
   "execution_count": 23,
   "metadata": {},
   "outputs": [
    {
     "data": {
      "image/png": "[encoded data removed]",
      "text/plain": [
       "<langgraph.graph.state.CompiledStateGraph object at 0x00000201F5CF90D0>"
      ]
     },
     "execution_count": 23,
     "metadata": {},
     "output_type": "execute_result"
    }
   ],
   "source": [
    "graph"
   ]
  },
  {
   "cell_type": "markdown",
   "metadata": {},
   "source": [
    "[Graph이미지](https://mermaidchart.com/play?utm_source=mermaid_live_editor&utm_medium=share#pako:eNp9U12vojAQ_Stk9gUT8GJRwWJ8uf6EfdplQypMhQQKt7TJqvG_by0uCX7cp85Mz5npOW0vkLcFAoWjZF3p_NwnqUhVlvWKSbO4v7fdbsy2H93uz4xSyivZqxvwiCrTPcrsS6M8udN0dkMwwerTGbNKdFq5k8zu98hkXmYNCm2qvHUfC7NhjkDJFA5liX3Xih7d1-UpYwjqF6THndkgHUUxCrfxKLtmg-rREMf3d85UdPIk2vHnFvVm6jvCow_Js992_ISavLL0fspXViXfWmWJdxOS99fwBMuNUf0euVMgZ7pWDq_qmv7ghAece3Ul0C-xOpaKLuZkQrAPy8L9tmN5pU40mABuV3Bvd-CHNc_BM0-3KoByVvfoQYOyYbccLqlwnBRUiQ2mQE14P04KqbgaXsfEr7ZtgCqpDVO2-lj-T3RXGJ37ipl_0YzNpdGI8rPVQgEly43tAfQCf4FGRksUBmQVbtaLcLlZeXACuljG83hN4g1ZxeEyIvHVg7MdGsyjKCQRIYt1SIIgjKLrP64fR1Y)"
   ]
  },
  {
   "cell_type": "markdown",
   "metadata": {},
   "source": [
    "`(6) Graph 실행`"
   ]
  },
  {
   "cell_type": "code",
   "execution_count": 24,
   "metadata": {},
   "outputs": [
    {
     "name": "stdout",
     "output_type": "stream",
     "text": [
      "1 ==> get_user_query()\n",
      "2 ==> analyze_input()\n",
      "====> result.strip().lower() true\n",
      "6 Edge ==> decide_next_step() is_menu_related =  True\n",
      "3 ==> search_menu_info()\n",
      "4 ==> generate_menu_response()\n",
      "\n",
      "메뉴 어시스턴트: 레스토랑의 추천 메뉴를 소개합니다. 현재 제공되는 인기 메뉴는 다음과 같으며, 각각의 특징을 상세히 안내해 드리겠습니다.\n",
      "\n",
      "### 1. 시그니처 스테이크 (₩35,000)\n",
      "- **주요 재료**: 21일 건조 숙성된 최상급 한우 등심, 로즈메리 감자, 그릴드 아스파라거스\n",
      "- **특징**:\n",
      "  - 미디엄 레어 조리로 부드러운 육질과 풍부한 육즙을 보존\n",
      "  - 로즈메리 향이 배어든 감자와 아삭한 아스파라거스로 텍스처 밸런스 완성\n",
      "  - 레드와인 소스와 함께 제공되어 고급스러운 풍미 강조\n",
      "- **추천 상황**: 특별한 날이나 고기 요리를 선호하는 분들에게 적합\n",
      "\n",
      "### 2. 트러플 리조또 (₩22,000)\n",
      "- **주요 재료**: 이탈리아산 아르보리오 쌀, 블랙 트러플, 24개월 숙성 파르미지아노 레지아노 치즈\n",
      "- **특징**:\n",
      "  - 크림처럼 부드러운 리조또 베이스에 신선한 블랙 트러플을 듬뿍 토핑\n",
      "  - 오랜 숙성 치즈로 깊은 우마미 풍미 추가\n",
      "  - 주문 즉시 조리 시스템으로 신선도 보장\n",
      "- **추천 상황**: 이탈리안 퓨전 요리를 즐기거나 트러플의 독특한 향을 경험하고 싶은 분들에게 추천\n",
      "\n",
      "### 선택 가이드:\n",
      "- **가격 대비 가치**: 트러플 리조또는 상대적으로 합리적인 가격에 고급 재료를 경험할 수 있음\n",
      "- **특별한 경험**: 시그니처 스테이크는 장기 숙성된 한우와 소스의 조화로 특별한 식사 분위기 연출 가능\n",
      "- **식단 제한**: 채식 옵션이 필요한 경우 리조또를, 고단백 식사를 원할 경우 스테이크를 권장\n",
      "\n",
      "두 메뉴 모두 셰프의 정성이 담긴 시그니처 플레이트로, 레스토랑 방문 시 꼭 시도해 볼 만한 메뉴입니다. 😊\n"
     ]
    },
    {
     "data": {
      "text/plain": [
       "{'user_query': '레스토랑의 메뉴를 추천해 주세요',\n",
       " 'is_menu_related': True,\n",
       " 'search_results': ['2. 트러플 리조또\\n   • 가격: ₩22,000\\n   • 주요 식재료: 이탈리아산 아르보리오 쌀, 블랙 트러플, 파르미지아노 레지아노 치즈\\n   • 설명: 크리미한 텍스처의 리조또에 고급 블랙 트러플을 듬뿍 얹어 풍부한 향과 맛을 즐길 수 있는 메뉴입니다. 24개월 숙성된 파르미지아노 레지아노 치즈를 사용하여 깊은 맛을 더했으며, 주문 즉시 조리하여 최상의 상태로 제공됩니다.',\n",
       "  '1. 시그니처 스테이크\\n   • 가격: ₩35,000\\n   • 주요 식재료: 최상급 한우 등심, 로즈메리 감자, 그릴드 아스파라거스\\n   • 설명: 셰프의 특제 시그니처 메뉴로, 21일간 건조 숙성한 최상급 한우 등심을 사용합니다. 미디엄 레어로 조리하여 육즙을 최대한 보존하며, 로즈메리 향의 감자와 아삭한 그릴드 아스파라거스가 곁들여집니다. 레드와인 소스와 함께 제공되어 풍부한 맛을 더합니다.'],\n",
       " 'final_answer': '레스토랑의 추천 메뉴를 소개합니다. 현재 제공되는 인기 메뉴는 다음과 같으며, 각각의 특징을 상세히 안내해 드리겠습니다.\\n\\n### 1. 시그니처 스테이크 (₩35,000)\\n- **주요 재료**: 21일 건조 숙성된 최상급 한우 등심, 로즈메리 감자, 그릴드 아스파라거스\\n- **특징**:\\n  - 미디엄 레어 조리로 부드러운 육질과 풍부한 육즙을 보존\\n  - 로즈메리 향이 배어든 감자와 아삭한 아스파라거스로 텍스처 밸런스 완성\\n  - 레드와인 소스와 함께 제공되어 고급스러운 풍미 강조\\n- **추천 상황**: 특별한 날이나 고기 요리를 선호하는 분들에게 적합\\n\\n### 2. 트러플 리조또 (₩22,000)\\n- **주요 재료**: 이탈리아산 아르보리오 쌀, 블랙 트러플, 24개월 숙성 파르미지아노 레지아노 치즈\\n- **특징**:\\n  - 크림처럼 부드러운 리조또 베이스에 신선한 블랙 트러플을 듬뿍 토핑\\n  - 오랜 숙성 치즈로 깊은 우마미 풍미 추가\\n  - 주문 즉시 조리 시스템으로 신선도 보장\\n- **추천 상황**: 이탈리안 퓨전 요리를 즐기거나 트러플의 독특한 향을 경험하고 싶은 분들에게 추천\\n\\n### 선택 가이드:\\n- **가격 대비 가치**: 트러플 리조또는 상대적으로 합리적인 가격에 고급 재료를 경험할 수 있음\\n- **특별한 경험**: 시그니처 스테이크는 장기 숙성된 한우와 소스의 조화로 특별한 식사 분위기 연출 가능\\n- **식단 제한**: 채식 옵션이 필요한 경우 리조또를, 고단백 식사를 원할 경우 스테이크를 권장\\n\\n두 메뉴 모두 셰프의 정성이 담긴 시그니처 플레이트로, 레스토랑 방문 시 꼭 시도해 볼 만한 메뉴입니다. 😊'}"
      ]
     },
     "execution_count": 24,
     "metadata": {},
     "output_type": "execute_result"
    }
   ],
   "source": [
    "query = \"레스토랑의 메뉴를 추천해 주세요\"\n",
    "initial_state = {'user_query':query}\n",
    "graph.invoke(initial_state)"
   ]
  },
  {
   "cell_type": "code",
   "execution_count": null,
   "metadata": {},
   "outputs": [],
   "source": [
    "query = \"레스토랑의 해산물 메뉴를 추천해 주세요\"\n",
    "initial_state = {'user_query':query}\n",
    "graph.invoke(initial_state)"
   ]
  },
  {
   "cell_type": "code",
   "execution_count": null,
   "metadata": {},
   "outputs": [
    {
     "name": "stdout",
     "output_type": "stream",
     "text": [
      "1 ==> get_user_query()\n",
      "2 ==> analyze_input()\n",
      "====> result.strip().lower() false\n",
      "6 Edge ==> decide_next_step() is_menu_related =  False\n",
      "5 ==> generate_general_response()\n",
      "\n",
      "일반 어시스턴트: 안녕하세요! 오늘 포항 두호동의 날씨는 대체로 맑거나 구름이 낀 상태로 예상되지만, 간혹 소나기가 올 가능성도 있습니다. 실시간 기상 정보를 확인하려면 기상청 앱이나 날씨 사이트를 참고하시는 것이 가장 정확할 것 같아요.  \n",
      "\n",
      "간단한 우산 준비를 하시면 좋을 듯합니다. 즐거운 하루 보내세요! ☔☀️\n"
     ]
    },
    {
     "data": {
      "text/plain": [
       "{'user_query': '안녕하세요? 오늘 포항 두호동 날씨는 어떤가요? 비가 올까요?',\n",
       " 'is_menu_related': False,\n",
       " 'final_answer': '안녕하세요! 오늘 포항 두호동의 날씨는 대체로 맑거나 구름이 낀 상태로 예상되지만, 간혹 소나기가 올 가능성도 있습니다. 실시간 기상 정보를 확인하려면 기상청 앱이나 날씨 사이트를 참고하시는 것이 가장 정확할 것 같아요.  \\n\\n간단한 우산 준비를 하시면 좋을 듯합니다. 즐거운 하루 보내세요! ☔☀️'}"
      ]
     },
     "execution_count": 27,
     "metadata": {},
     "output_type": "execute_result"
    }
   ],
   "source": [
    "query = \"안녕하세요? 내일 날씨는 어떤가요?\"\n",
    "initial_state = {'user_query':query}\n",
    "graph.invoke(initial_state)"
   ]
  },
  {
   "cell_type": "code",
   "execution_count": null,
   "metadata": {},
   "outputs": [],
   "source": [
    "# while True:\n",
    "#     initial_state = {'user_query':''}\n",
    "#     graph.invoke(initial_state) \n",
    "#     continue_chat = input(\"다른 질문이 있으신가요? (y/n): \").lower()\n",
    "#     if continue_chat != 'y':\n",
    "#         print(\"대화를 종료합니다. 감사합니다!\")\n",
    "#         break"
   ]
  }
 ],
 "metadata": {
  "kernelspec": {
   "display_name": "mylangchain-app-SBe-Yh6W-py3.12",
   "language": "python",
   "name": "python3"
  },
  "language_info": {
   "codemirror_mode": {
    "name": "ipython",
    "version": 3
   },
   "file_extension": ".py",
   "mimetype": "text/x-python",
   "name": "python",
   "nbconvert_exporter": "python",
   "pygments_lexer": "ipython3",
   "version": "3.12.7"
  }
 },
 "nbformat": 4,
 "nbformat_minor": 2
}
