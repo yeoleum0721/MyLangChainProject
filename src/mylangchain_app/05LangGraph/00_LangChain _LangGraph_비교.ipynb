{
  "cells": [
    {
      "cell_type": "markdown",
      "metadata": {},
      "source": [
        "#### LangChain vs LangGraph (feat. LangGraph 개념 설명)\n",
        "* LangGraph의 개념과 주요 기능을 이해하고, 차이점을 비교합니다."
      ]
    },
    {
      "cell_type": "code",
      "execution_count": 1,
      "metadata": {},
      "outputs": [
        {
          "name": "stdout",
          "output_type": "stream",
          "text": [
            "sk\n",
            "Fy\n"
          ]
        }
      ],
      "source": [
        "from dotenv import load_dotenv\n",
        "import os\n",
        "\n",
        "load_dotenv()\n",
        "\n",
        "OPENAI_API_KEY = os.getenv(\"OPENAI_API_KEY\")\n",
        "print(OPENAI_API_KEY[:2])\n",
        "\n",
        "UPSTAGE_API_KEY = os.getenv(\"UPSTAGE_API_KEY\")\n",
        "print(UPSTAGE_API_KEY[30:])"
      ]
    },
    {
      "cell_type": "code",
      "execution_count": 2,
      "metadata": {},
      "outputs": [
        {
          "name": "stderr",
          "output_type": "stream",
          "text": [
            "c:\\Users\\user\\AppData\\Local\\pypoetry\\Cache\\virtualenvs\\mylangchain-app-SBe-Yh6W-py3.12\\Lib\\site-packages\\tqdm\\auto.py:21: TqdmWarning: IProgress not found. Please update jupyter and ipywidgets. See https://ipywidgets.readthedocs.io/en/stable/user_install.html\n",
            "  from .autonotebook import tqdm as notebook_tqdm\n"
          ]
        },
        {
          "name": "stdout",
          "output_type": "stream",
          "text": [
            "client=<openai.resources.chat.completions.completions.Completions object at 0x0000027FCABB0D70> async_client=<openai.resources.chat.completions.completions.AsyncCompletions object at 0x0000027FCC48FC80> model_name='solar-pro' temperature=0.5 model_kwargs={} upstage_api_key=SecretStr('**********') upstage_api_base='https://api.upstage.ai/v1'\n"
          ]
        },
        {
          "data": {
            "text/plain": [
              "AIMessage(content='**LangGraph**는 대규모 언어 모델(LLM)을 기반으로 한 **상태 관리(stateful) 멀티모달 애플리케이션**을 구축하기 위한 오픈소스 프레임워크입니다. LangChain 팀을 주도로 개발되었으며, 복잡한 대화형 시스템(예: 챗봇, 에이전트, 워크플로우 자동화)을 설계할 때 **그래프 기반의 상태 추적**과 **모듈식 구성**을 제공합니다.\\n\\n### 주요 특징\\n1. **그래프 기반 상태 관리**  \\n   - LLM의 대화 흐름을 **노드(Node)와 엣지(Edge)**로 구성된 그래프로 표현합니다.  \\n   - 각 노드는 특정 작업(예: LLM 호출, 도구 사용)을 수행하며, 엣지는 상태 전이(transition)를 정의합니다.  \\n   - 복잡한 대화에서도 **이전 컨텍스트를 유지**하며 유연한 워크플로우를 구축할 수 있습니다.\\n\\n2. **확장성**  \\n   - LangChain의 컴포넌트(LLM, 메모리, 도구 등)와 호환되어 기존 LangChain 애플리케이션을 LangGraph로 쉽게 마이그레이션할 수 있습니다.  \\n   - 사용자 정의 노드/엣지를 추가해 비즈니스 로직에 맞게 확장 가능합니다.\\n\\n3. **실시간 협업 지원**  \\n   - 여러 사용자 또는 에이전트가 동시에 상호작용하는 시나리오(예: 협업 도구, 게임)에 적합합니다.  \\n   - 상태 동기화를 통해 **동시성(concurrency)** 문제를 해결합니다.\\n\\n4. **도구 통합**  \\n   - 외부 API, 데이터베이스, 검색 시스템 등과의 연동을 지원합니다.  \\n   - 예: LLM이 검색 결과를 참조해 답변을 생성하도록 설계 가능.\\n\\n### 사용 사례\\n- **복잡한 챗봇**: 사용자 질문에 따라 동적으로 대화 경로를 변경하는 시스템.  \\n- **에이전트 워크플로우**: LLM이 여러 단계(예: 데이터 수집 → 분석 → 보고서 생성)를 거쳐 작업을 완료.  \\n- **멀티플레이어 게임**: 상태 기반으로 플레이어 간 상호작용을 관리.  \\n- **RAG(Retrieval-Augmented Generation)**: 검색-생성 파이프라인을 그래프로 표현.\\n\\n### 기술적 기반\\n- **LangChain**과의 통합: LangChain의 `Chain`, `Agent`, `Memory`를 LangGraph 노드로 활용.  \\n- **Python 중심**: 현재 Python 라이브러리만 제공되며, 다른 언어 지원은 계획 중입니다.  \\n- **상태 지속성**: JSON, 데이터베이스 등에 그래프 상태를 저장해 세션 간 연속성 유지.\\n\\n### 예시 코드 (간단한 그래프)\\n```python\\nfrom langgraph import State, Graph\\n\\nstate = State()\\ngraph = Graph(state)\\n\\n@graph.node\\ndef start(state: State) -> dict:\\n    return {\"next\": {\"classify\": state.get(\"input\")}}\\n\\n@graph.node\\ndef classify(state: State) -> dict:\\n    # 간단한 분류 로직 예시\\n    if \"hello\" in state.input:\\n        return {\"next\": \"greeting\"}\\n    else:\\n        return {\"next\": \"default\"}\\n\\n@graph.node\\ndef greeting(state: State) -> dict:\\n    return {\"output\": \"Hello! How can I help you?\"}\\n\\n@graph.node\\ndef default(state: State) -> dict:\\n    return {\"output\": \"I\\'m not sure how to respond.\"}\\n\\ngraph.add_edge(\"start\", \"classify\")\\ngraph.add_edge(\"classify\", \"greeting\")\\ngraph.add_edge(\"classify\", \"default\")\\n\\n# 실행\\nresult = graph.run(\"Hello there!\")\\nprint(result[\"output\"])  # 출력: \"Hello! How can I help you?\"\\n```\\n\\nLangGraph는 LLM 애플리케이션을 **구조화된 방식**으로 설계할 수 있게 해주며, 특히 상태 관리가 필요한 복잡한 시스템에 강점을 가집니다. 공식 문서와 예제 리포지토리에서 더 자세한 정보를 확인할 수 있습니다.', additional_kwargs={'refusal': None}, response_metadata={'token_usage': {'completion_tokens': 716, 'prompt_tokens': 19, 'total_tokens': 735, 'completion_tokens_details': {'accepted_prediction_tokens': 0, 'audio_tokens': 0, 'reasoning_tokens': 0, 'rejected_prediction_tokens': 0}, 'prompt_tokens_details': {'audio_tokens': 0, 'cached_tokens': 0}}, 'model_name': 'solar-pro2-250909', 'system_fingerprint': None, 'id': 'b16ce0bc-366e-4707-83cf-421a6711b221', 'service_tier': None, 'finish_reason': 'stop', 'logprobs': None}, id='run--8020f055-ff47-444f-8fe5-a006b245f3fa-0', usage_metadata={'input_tokens': 19, 'output_tokens': 716, 'total_tokens': 735, 'input_token_details': {'audio': 0, 'cache_read': 0}, 'output_token_details': {'audio': 0, 'reasoning': 0}})"
            ]
          },
          "execution_count": 2,
          "metadata": {},
          "output_type": "execute_result"
        }
      ],
      "source": [
        "# from langchain_openai import ChatOpenAI\n",
        "\n",
        "# llm = ChatOpenAI(model='gpt-4o-mini') # 테스트의 경우에는 작은 모델을 사용합니다\n",
        "\n",
        "from langchain_upstage import ChatUpstage\n",
        "llm = ChatUpstage(\n",
        "        model=\"solar-pro\",\n",
        "        base_url=\"https://api.upstage.ai/v1\",\n",
        "        temperature=0.5\n",
        "    )\n",
        "print(llm)\n",
        "\n",
        "query = 'LangGraph는 무엇인가요?'\n",
        "llm.invoke(query)\n",
        "\n"
      ]
    },
    {
      "cell_type": "markdown",
      "metadata": {},
      "source": [
        "#### LangGraph의 기본개념\n",
        "* `state`는 LangGraph 에이전트의 state를 나타내는 데이터 구조입니다.\n",
        "* `state`는 `TypedDict`를 사용하여 정의되며, 이는 Python의 타입 힌팅을 통해 구조를 명확히 합니다.\n",
        "    * 간단하게 `messages`라는 필드만 있습니다.\n",
        "    * 필요에 따라 다양한 값들을 활용할 수 있습니다.\n",
        "* `state`는 에이전트의 동작을 결정하는 데 사용되며, 각 노드에서 state를 업데이트하거나 참조할 수 있습니다.\n",
        "* `state`는 LangGraph의 노드 간에 전달되며, 에이전트의 state 전이를 관리합니다."
      ]
    },
    {
      "cell_type": "code",
      "execution_count": 4,
      "metadata": {},
      "outputs": [],
      "source": [
        "from typing import Annotated # 타입 힌트를 사용하기 위해 \n",
        "from typing_extensions import TypedDict # 구조화된 딕셔너리 타입을 정의하기 위해 \n",
        "\n",
        "from langgraph.graph.message import add_messages \n",
        "from langchain_core.messages import AnyMessage # LangChain에서 사용하는 모든 종류의 메시지(예: HumanMessage, AIMessage)\n",
        "\n",
        "# AgentState는 에이전트의 현재 상태를 나타내는 딕셔너리 타입을 정의합니다.\n",
        "# TypedDict를 사용하면 딕셔너리가 어떤 키와 값 타입을 가져야 하는지 명확하게 지정할 수 있습니다.\n",
        "class AgentState(TypedDict):\n",
        "    # 'messages' 키는 에이전트의 대화 기록을 저장합니다.\n",
        "    # 이 목록에는 LangChain 메시지 객체(AnyMessage)가 들어갑니다.\n",
        "    # LangGraph가 이 상태를 처리할 때, 새로운 메시지가 추가되면\n",
        "    # 기존 메시지 목록의 끝에 자동으로 추가되도록(append) 설정합니다.\n",
        "    messages: list[Annotated[AnyMessage, add_messages]]"
      ]
    },
    {
      "cell_type": "markdown",
      "metadata": {},
      "source": [
        "- 위에 선언한 `AgentState`를 활용하여 `StateGraph`를 생성합니다."
      ]
    },
    {
      "cell_type": "code",
      "execution_count": 5,
      "metadata": {},
      "outputs": [
        {
          "name": "stdout",
          "output_type": "stream",
          "text": [
            "<class 'langgraph.graph.state.StateGraph'>\n"
          ]
        }
      ],
      "source": [
        "from langgraph.graph import StateGraph\n",
        "\n",
        "graph_builder = StateGraph(AgentState)\n",
        "print(type(graph_builder))"
      ]
    },
    {
      "cell_type": "markdown",
      "metadata": {},
      "source": [
        "- `graph`에 추가할 `node`를 생성합니다\n",
        "-  `node`는 LangGraph에서 실행되는 개별적인 작업 단위를 의미합니다. \n",
        "    - 각 노드는 특정 기능을 수행하는 독립적인 컴포넌트로, 예를 들어 텍스트 생성, 데이터 처리, 또는 의사 결정과 같은 작업을 담당할 수 있습니다.\n",
        "    - `node`는 기본적으로 함수(function)로 정의되고, 뒤에서 다루지만 다른 에이전트(agent)를 활용할 수도 있습니다"
      ]
    },
    {
      "cell_type": "code",
      "execution_count": 6,
      "metadata": {},
      "outputs": [],
      "source": [
        "# Node 역할 하는 함수의 인자로 state 객체를 사용함 - LLM을 호출하는 노드\n",
        "def generate(state: AgentState) -> AgentState:\n",
        "    \"\"\"\n",
        "    `generate` 노드는 사용자의 질문을 받아서 응답을 생성하는 노드입니다.\n",
        "    \"\"\"\n",
        "    messages = state['messages']\n",
        "    ai_message = llm.invoke(messages)\n",
        "    return {'messages': [ai_message]}"
      ]
    },
    {
      "cell_type": "markdown",
      "metadata": {},
      "source": [
        "- `node`를 생성한 후에 `edge`로 연결합니다\n",
        "- `edge`는 노드들 사이의 연결을 나타내며, 데이터와 제어 흐름의 경로를 정의합니다. \n",
        "    - 엣지를 통해 한 노드의 출력이 다음 노드의 입력으로 전달되어, 전체적인 워크플로우가 형성됩니다.\n",
        "    - `node`와 `edge`의 조합은 방향성 그래프(Directed Graph)를 형성하며, 이를 통해 복잡한 AI 에이전트의 행동 흐름을 구조화할 수 있습니다"
      ]
    },
    {
      "cell_type": "code",
      "execution_count": 7,
      "metadata": {},
      "outputs": [
        {
          "data": {
            "text/plain": [
              "<langgraph.graph.state.StateGraph at 0x27fcc67f7d0>"
            ]
          },
          "execution_count": 7,
          "metadata": {},
          "output_type": "execute_result"
        }
      ],
      "source": [
        "# LLM을 호출하는 generate함수를 Node로 정의함\n",
        "graph_builder.add_node('generate', generate)"
      ]
    },
    {
      "cell_type": "markdown",
      "metadata": {},
      "source": [
        "- 모든 그래프는 `START(시작)`와 `END(종료)`가 있습니다\n",
        "    - `END`를 explicit하게 선언하지 않는 경우도 종종 있지만, 가독성을 위해 작성해주는 것을 권장합니다"
      ]
    },
    {
      "cell_type": "code",
      "execution_count": 8,
      "metadata": {},
      "outputs": [
        {
          "data": {
            "text/plain": [
              "<langgraph.graph.state.StateGraph at 0x27fcc67f7d0>"
            ]
          },
          "execution_count": 8,
          "metadata": {},
          "output_type": "execute_result"
        }
      ],
      "source": [
        "from langgraph.graph import START, END\n",
        "\n",
        "graph_builder.add_edge(START, 'generate')\n",
        "graph_builder.add_edge('generate', END)"
      ]
    },
    {
      "cell_type": "markdown",
      "metadata": {},
      "source": [
        "- `node`를 생성하고 `edge`로 연결한 후에 `compile` 메서드를 호출하여 `Graph`를 생성합니다"
      ]
    },
    {
      "cell_type": "code",
      "execution_count": 9,
      "metadata": {},
      "outputs": [
        {
          "name": "stdout",
          "output_type": "stream",
          "text": [
            "<class 'langgraph.graph.state.CompiledStateGraph'>\n"
          ]
        }
      ],
      "source": [
        "graph = graph_builder.compile()\n",
        "print(type(graph))"
      ]
    },
    {
      "cell_type": "markdown",
      "metadata": {},
      "source": [
        "- `compile` 후에는 그래프를 시각화하여 확인할 수 있습니다\n",
        "- 의도한대로 그래프가 생성됐는지 확인하는 습관을 기르는 것이 좋습니다\n",
        "    - `git`에서 코드 작업물을 commit하기 전에 `git diff`를 통해 변경사항을 확인하는 것과 같습니다"
      ]
    },
    {
      "cell_type": "code",
      "execution_count": null,
      "metadata": {},
      "outputs": [],
      "source": [
        "#from IPython.display import display, Image\n",
        "\n",
        "#display(Image(graph.get_graph().draw_mermaid_png(max_retries=5, retry_delay=2.0)))"
      ]
    },
    {
      "cell_type": "code",
      "execution_count": 10,
      "metadata": {},
      "outputs": [
        {
          "name": "stdout",
          "output_type": "stream",
          "text": [
            "Mermaid Code:\n",
            "---\n",
            "config:\n",
            "  flowchart:\n",
            "    curve: linear\n",
            "---\n",
            "graph TD;\n",
            "\t__start__([<p>__start__</p>]):::first\n",
            "\tgenerate(generate)\n",
            "\t__end__([<p>__end__</p>]):::last\n",
            "\t__start__ --> generate;\n",
            "\tgenerate --> __end__;\n",
            "\tclassDef default fill:#f2f0ff,line-height:1.2\n",
            "\tclassDef first fill-opacity:0\n",
            "\tclassDef last fill:#bfb6fc\n",
            "\n"
          ]
        }
      ],
      "source": [
        "# 대체 방법\n",
        "mermaid_code = graph.get_graph().draw_mermaid()\n",
        "print(\"Mermaid Code:\")\n",
        "print(mermaid_code)"
      ]
    },
    {
      "cell_type": "markdown",
      "metadata": {},
      "source": [
        "* https://mermaid.live/ 에서  mermain_code 로 직접 확인한다.\n",
        "\n",
        "* [Graph 이미지](https://mermaidchart.com/play?utm_source=mermaid_live_editor&utm_medium=share#pako:eNpVkN1ugzAMhV8FeTetBCzQ8tO06s36CLvaMlUpOBAJAgpBWlf13RfSlq25iR2f78T2BYquRKBQad7X3vthyxQzx-NguLbX4nPX7-ds99rvv5aUUiH1YCZhhQo1N7h4BMsbjqqcYRfPaMNv5GzqBcHee-Db_6aucuddobDwcEDhlSj42BhPyKahLyIWRAi_kQqDGmVVGxqF8RPgGnbyoOt5Ic2ZkifB1Nbd7iROqSiYAt8uRZZAjR7RhxZ1y6cULkx5HgNTY4sMqA3v_TBg6mqxnquPrmsfpO7GqgYqeDPYbOxLO9tBcrvxP4kdEvVbNyoDNE2cBdALfANdkTRMo2QTJ2meb6JstfbhbJ_TMIoTQsg6yUmU5ZurDz_uUxLm2VSYT3T9BaY8oOc)\n"
      ]
    },
    {
      "cell_type": "code",
      "execution_count": 13,
      "metadata": {},
      "outputs": [
        {
          "name": "stdout",
          "output_type": "stream",
          "text": [
            "------------------------------\n",
            "<class 'dict'>\n",
            "content='**LangGraph**와 **LangChain**은 모두 LLM(Large Language Model)을 활용한 애플리케이션 개발을 위한 프레임워크이지만, 목적과 기능에서 차이가 있습니다.  \\n\\n### **1. LangChain이란?**  \\n- **목적**: LLM을 활용한 다양한 애플리케이션(챗봇, 문서 분석, 에이전트 등)을 **모듈식으로 구축**하기 위한 프레임워크입니다.  \\n- **주요 기능**:  \\n  - **모듈화된 구성 요소** (예: 프롬프트 관리, 메모리, 체인, 도구 사용, 벡터 DB 연동) 제공.  \\n  - **유연한 파이프라인 구축** (예: \"질문 → 검색 → 응답 생성\"과 같은 다중 단계 작업).  \\n  - **LangSmith**와 같은 디버깅/모니터링 도구 지원.  \\n- **적합한 사용 사례**:  \\n  - 간단한 챗봇, RAG(Retrieval-Augmented Generation), 멀티모달 애플리케이션 등.  \\n\\n> 📌 **LangChain = LLM 기반 애플리케이션의 \"레고 블록\" 같은 도구**  \\n\\n---\\n\\n### **2. LangGraph란?**  \\n- **목적**: **복잡한 상태(State)가 필요한 다단계 작업** (예: 대화 상태 관리, 워크플로우 자동화)을 위한 **그래프 기반 프레임워크**입니다.  \\n- **주요 기능**:  \\n  - **상태(State) 추적**: 각 노드/엣지에서 메모리나 컨텍스트를 유지하며 작업을 연결합니다.  \\n  - **비동기/동기 워크플로우 지원**: 여러 에이전트가 협업하거나 순차적 작업이 필요한 시나리오에 적합합니다.  \\n  - **LangChain과의 통합**: LangChain의 체인/도구를 그래프 노드로 활용할 수 있습니다.  \\n- **적합한 사용 사례**:  \\n  - 다단계 대화 시스템 (예: \"고객 지원 → 결제 확인 → 예약 완료\").  \\n  - 복합 에이전트 협업 (예: \"연구원 에이전트 → 데이터 분석 에이전트 → 보고서 생성 에이전트\").  \\n\\n> 📌 **LangGraph = \"상태 머신 + 그래프 구조\"로 복잡한 흐름을 관리하는 LangChain의 확장**  \\n\\n---\\n\\n### **3. 주요 차이점 요약**  \\n| 특징                | LangChain                          | LangGraph                          |\\n|---------------------|------------------------------------|------------------------------------|\\n| **주요 목적**       | 모듈식 LLM 애플리케이션 구축       | 상태 기반 다단계 워크플로우 관리    |\\n| **구조**            | 선형 또는 분기형 체인              | 그래프/상태 머신 구조              |\\n| **상태 관리**       | 제한적 (메모리 모듈로 보완)        | 내장 상태 추적 및 전이 지원        |\\n| **적합한 작업**     | 단일/간단한 다중 단계 작업         | 복잡한 다단계 협업 또는 대화 시스템 |\\n| **통합 관계**       | 독립적 사용 가능                   | LangChain 컴포넌트를 노드로 활용   |\\n\\n---\\n\\n### **4. 예시 시나리오**  \\n- **LangChain만 사용**:  \\n  - \"사용자 질문 → 문서 검색 → LLM 응답 생성\"과 같은 선형 RAG 파이프라인.  \\n- **LangGraph + LangChain**:  \\n  - \"고객이 예약 요청 → 시스템이 예약 가능 여부 확인 → 결제 처리 → 확인 이메일 발송\"과 같은 상태 전이 워크플로우.  \\n\\nLangGraph는 LangChain의 상위 호환 도구로, **복잡한 상태 관리가 필요할 때** 선택하면 됩니다. 기본 LLM 애플리케이션에는 LangChain만으로도 충분할 수 있습니다.' additional_kwargs={'refusal': None} response_metadata={'token_usage': {'completion_tokens': 653, 'prompt_tokens': 25, 'total_tokens': 678, 'completion_tokens_details': {'accepted_prediction_tokens': 0, 'audio_tokens': 0, 'reasoning_tokens': 0, 'rejected_prediction_tokens': 0}, 'prompt_tokens_details': {'audio_tokens': 0, 'cached_tokens': 0}}, 'model_name': 'solar-pro2-250909', 'system_fingerprint': None, 'id': '47ea5c5f-b31a-4eec-9321-c9d5c1c4c69d', 'service_tier': None, 'finish_reason': 'stop', 'logprobs': None} id='run--fae389ed-d8c6-4844-b82b-aa84855614d5-0' usage_metadata={'input_tokens': 25, 'output_tokens': 653, 'total_tokens': 678, 'input_token_details': {'audio': 0, 'cache_read': 0}, 'output_token_details': {'audio': 0, 'reasoning': 0}}\n"
          ]
        }
      ],
      "source": [
        "from langchain_core.messages import HumanMessage\n",
        "\n",
        "query = 'LangGraph는 무엇인가요? LangChain과의 차이점은 무엇인가요?'\n",
        "initial_state = {'messages': [HumanMessage(query)]}\n",
        "result = graph.invoke(initial_state)\n",
        "\n",
        "print(\"-\"*30)\n",
        "print(type(result))\n",
        "print(result['messages'][0])"
      ]
    },
    {
      "cell_type": "markdown",
      "metadata": {},
      "source": [
        "#### 2개의 AI 에이전트 협력하기\n",
        "\n",
        "* 첫 번째 AI 에이전트\n",
        "    * 사용자의 질문을 분석하고 핵심 키워드와 배경 정보 추가하는 역할\n",
        "* 두 번째 AI 에이전트\n",
        "    * 첫 번째 에이전트가 제공하는 정보를 기반으로 자세한 답변을 생성하는 역할"
      ]
    },
    {
      "cell_type": "code",
      "execution_count": null,
      "metadata": {},
      "outputs": [],
      "source": [
        "from langgraph.graph import StateGraph\n",
        "\n",
        "from pprint import pprint\n",
        "\n",
        "# 첫번째 AI에이전트\n",
        "def agent_1(state):\n",
        "    \"\"\" \n",
        "        사용자의 질문을 분석하고 핵심 키워드와 배경 정보 추가하는 역할\n",
        "    \"\"\"\n",
        "    query = state['query']\n",
        "    keywords = llm.invoke(f'질문: {query}\\n이 질문에서 핵심 키워드를 3~5개 추출해 주세요.')\n",
        "\n",
        "     # 질문과 관련된 배경 정보 제공\n",
        "    background_info = llm.invoke(f\"질문: {query}\\n이 질문을 이해하는 데 도움이 될 만한 추가 정보를 제공해 주세요.\")\n",
        "\n",
        "    print(f\"\\n[Agent 1] 원본 질문: {query}\")\n",
        "    print(f\"[Agent 1] 핵심 키워드: {keywords}\")\n",
        "    print(f\"[Agent 1] 배경 정보: {background_info}\\n\")"
      ]
    }
  ],
  "metadata": {
    "kernelspec": {
      "display_name": "mylangchain-app-SBe-Yh6W-py3.12",
      "language": "python",
      "name": "python3"
    },
    "language_info": {
      "codemirror_mode": {
        "name": "ipython",
        "version": 3
      },
      "file_extension": ".py",
      "mimetype": "text/x-python",
      "name": "python",
      "nbconvert_exporter": "python",
      "pygments_lexer": "ipython3",
      "version": "3.12.7"
    }
  },
  "nbformat": 4,
  "nbformat_minor": 2
}
