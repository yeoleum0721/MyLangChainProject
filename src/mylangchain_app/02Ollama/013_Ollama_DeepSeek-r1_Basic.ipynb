{
 "cells": [
  {
   "cell_type": "markdown",
   "metadata": {},
   "source": [
    "#### 1. 패키지 설치"
   ]
  },
  {
   "cell_type": "code",
   "execution_count": 2,
   "metadata": {},
   "outputs": [
    {
     "name": "stdout",
     "output_type": "stream",
     "text": [
      "Note: you may need to restart the kernel to use updated packages.\n",
      "Note: you may need to restart the kernel to use updated packages.\n"
     ]
    }
   ],
   "source": [
    "%pip install -q langchain\n",
    "%pip install -q langchain-ollama"
   ]
  },
  {
   "cell_type": "markdown",
   "metadata": {},
   "source": [
    "#### 로컬 Ollama로 설치한 deepseek-r1:1.5b 모델을 사용하기\n",
    "##### ollama run deepseek-r1:1.5b"
   ]
  },
  {
   "cell_type": "code",
   "execution_count": 5,
   "metadata": {},
   "outputs": [
    {
     "name": "stderr",
     "output_type": "stream",
     "text": [
      "C:\\Users\\user\\AppData\\Local\\Temp\\ipykernel_21916\\633809197.py:6: LangChainDeprecationWarning: The class `Ollama` was deprecated in LangChain 0.3.1 and will be removed in 1.0.0. An updated version of the class exists in the :class:`~langchain-ollama package and should be used instead. To use it run `pip install -U :class:`~langchain-ollama` and import as `from :class:`~langchain_ollama import OllamaLLM``.\n",
      "  llm = Ollama(model=\"deepseek-r1:1.5b\")\n",
      "C:\\Users\\user\\AppData\\Local\\Temp\\ipykernel_21916\\633809197.py:15: LangChainDeprecationWarning: The class `LLMChain` was deprecated in LangChain 0.1.17 and will be removed in 1.0. Use :meth:`~RunnableSequence, e.g., `prompt | llm`` instead.\n",
      "  chain = LLMChain(llm=llm, prompt=prompt_template)\n"
     ]
    },
    {
     "name": "stdout",
     "output_type": "stream",
     "text": [
      "<class 'dict'>\n",
      "{'question': 'What is LangChain?', 'text': '<think>\\n\\n</think>\\n\\nLangChain is a Python framework for building and training large language models. It streamlines the process of generating text by automating the model generation step, which can be time-consuming and resource-intensive when performed manually.\\n\\n### Key Features of LangChain:\\n1. **Automated Generation**: Once a user specifies a prompt or task, LangChain automatically generates responses using your chosen model.\\n2. **Flexible Integration**: It works seamlessly with popular models like GPT-3.5(B)LM, OpenAI’s model, and Hugging Face’s models.\\n3. **Extensive Training Data**: LangChain leverages pre-collected datasets to improve performance without needing labeled data.\\n4. **Real-Time Performance**: The training process is run in real-time, making it suitable for applications that require immediate responses.\\n\\n### Usage Scenarios:\\n- **Customer Support**: Automate customer inquiries and generate answers quickly.\\n- **API Development**: Integrate AI-generated text into web or mobile applications.\\n- **Automation Tasks**: Automate repetitive tasks like filling out forms or generating step-by-step instructions.\\n\\n### Example Workflow:\\n1. **Define a Task**: \"Create an article about the impact of artificial intelligence on healthcare.\"\\n2. **Run LangChain**: Use LangChain to train and evaluate models based on your task.\\n3. **Deploy Models**: Once trained, use the model in a production environment where it can generate responses at scale.\\n\\nLangChain simplifies AI-driven response generation, making it accessible for applications ranging from business processes to customer service.'}\n",
      "<think>\n",
      "\n",
      "</think>\n",
      "\n",
      "LangChain is a Python framework for building and training large language models. It streamlines the process of generating text by automating the model generation step, which can be time-consuming and resource-intensive when performed manually.\n",
      "\n",
      "### Key Features of LangChain:\n",
      "1. **Automated Generation**: Once a user specifies a prompt or task, LangChain automatically generates responses using your chosen model.\n",
      "2. **Flexible Integration**: It works seamlessly with popular models like GPT-3.5(B)LM, OpenAI’s model, and Hugging Face’s models.\n",
      "3. **Extensive Training Data**: LangChain leverages pre-collected datasets to improve performance without needing labeled data.\n",
      "4. **Real-Time Performance**: The training process is run in real-time, making it suitable for applications that require immediate responses.\n",
      "\n",
      "### Usage Scenarios:\n",
      "- **Customer Support**: Automate customer inquiries and generate answers quickly.\n",
      "- **API Development**: Integrate AI-generated text into web or mobile applications.\n",
      "- **Automation Tasks**: Automate repetitive tasks like filling out forms or generating step-by-step instructions.\n",
      "\n",
      "### Example Workflow:\n",
      "1. **Define a Task**: \"Create an article about the impact of artificial intelligence on healthcare.\"\n",
      "2. **Run LangChain**: Use LangChain to train and evaluate models based on your task.\n",
      "3. **Deploy Models**: Once trained, use the model in a production environment where it can generate responses at scale.\n",
      "\n",
      "LangChain simplifies AI-driven response generation, making it accessible for applications ranging from business processes to customer service.\n"
     ]
    }
   ],
   "source": [
    "from langchain.llms import Ollama\n",
    "from langchain.prompts import PromptTemplate\n",
    "from langchain.chains import LLMChain\n",
    "\n",
    "# Ollama를 사용하여 로컬에서 실행 중인 deepseek-r1 모델을 로드\n",
    "llm = Ollama(model=\"deepseek-r1:1.5b\")\n",
    "\n",
    "# 프롬프트 템플릿 정의\n",
    "prompt_template = PromptTemplate(\n",
    "    input_variables=[\"question\"],\n",
    "    template=\"Q: {question}\\nA:\"\n",
    ")\n",
    "\n",
    "# LLMChain 생성\n",
    "chain = LLMChain(llm=llm, prompt=prompt_template)\n",
    "\n",
    "# 질문을 입력하고 모델의 응답을 받음\n",
    "question = \"What is LangChain?\"\n",
    "response = chain.invoke({\"question\": question})\n",
    "\n",
    "# 결과 출력\n",
    "print(type(response))\n",
    "print(response)\n",
    "print(response[\"text\"])"
   ]
  },
  {
   "cell_type": "markdown",
   "metadata": {},
   "source": [
    "##### 최신버전 LangChain에서는 ChatOllama와 RunnableSequence(prompt | llm) 를 사용"
   ]
  },
  {
   "cell_type": "code",
   "execution_count": 6,
   "metadata": {},
   "outputs": [
    {
     "name": "stdout",
     "output_type": "stream",
     "text": [
      "<class 'langchain_core.messages.ai.AIMessage'>\n",
      "content='<think>\\nOkay, the user asked, \"What is Python?\" I need to provide a clear and comprehensive answer.\\n\\nFirst, I should explain what Python is as a programming language. It\\'s known for being easy to learn and has good support for libraries like NumPy, Pandas, Matplotlib. But it\\'s also quite powerful for more complex tasks.\\n\\nI remember that Python uses an interactive shell where you can type commands directly into the terminal. There\\'s Python 2 and Python 3 versions; I should mention both.\\n\\nIt\\'s important to note how Python interacts with other languages like Java or C++ through frameworks like Django and Flask. Also, it\\'s used for web development with Flask, though some might prefer using Streamlit in Jupyter notebooks instead of VLOW.\\n\\nI should include its use cases across various fields: web development, data analysis, scientific computing, artificial intelligence, and more. Mentioning libraries like PyTorch and TensorFlow can show its versatility beyond basic tasks.\\n\\nFinally, I\\'ll wrap it up by highlighting Python\\'s extensive capabilities and community support, giving the user a solid overview of what to expect.\\n</think>\\n\\nPython is a programming language that was originally called \"Pilishemo\" due to its first letters spelling P-i-l-h-e-m-o. It became popular in the mid-20th century and has since been widely used for various purposes, including web development, data analysis, machine learning, scientific computing, game development, and more.\\n\\nHere are some key aspects of Python:\\n\\n1. **Programming Language**: Python is a high-level, interpreted programming language that runs on platforms like Windows, macOS, and Linux. It\\'s also available in many versions, such as Python 3.\\n\\n2. **Variables and Data Structures**: Unlike many other languages, Python allows for dynamic typing, meaning you don\\'t have to declare the type of a variable before assigning it. The basic data structure is the list, which is one of Python\\'s most important.\\n\\n3. **Control Flow**: You can use conditional statements (if, elif) and loops (for, while).\\n\\n4. **Classes and Objects**: Python allows for object-oriented programming with classes.\\n\\n5. **Functions and Modules**: Functions allow you to write reusable code. Modules are another way to organize related functionality.\\n\\n6. **Importing Modules**: You can import other modules using the `import` statement.\\n\\n7. **File I/O**: Python has built-in support for reading and writing files (file reading, file writing).\\n\\n8. **Data Handling**: Python provides extensive libraries like NumPy, Pandas, and Matplotlib that allow you to manipulate large datasets easily.\\n\\n9. **Web Development**: Python is used with frameworks like Django, Flask, and Streamlit for building web applications.\\n\\n10. **AI and Machine Learning**: Python\\'s scikit-learn library is widely used in machine learning tasks such as classification, regression, and clustering.\\n\\nPython\\'s flexibility allows you to create custom programming languages or even entire operating systems, but that\\'s beyond the scope of this discussion.' additional_kwargs={} response_metadata={'model': 'deepseek-r1:1.5b', 'created_at': '2025-09-19T06:37:01.1092161Z', 'done': True, 'done_reason': 'stop', 'total_duration': 33310916100, 'load_duration': 93427300, 'prompt_eval_count': 24, 'prompt_eval_duration': 544780400, 'eval_count': 615, 'eval_duration': 32670826200, 'model_name': 'deepseek-r1:1.5b'} id='run--e0d91b7d-f287-4a2f-b2f6-bbec29ee676c-0' usage_metadata={'input_tokens': 24, 'output_tokens': 615, 'total_tokens': 639}\n"
     ]
    }
   ],
   "source": [
    "from langchain_ollama import ChatOllama\n",
    "from langchain_core.prompts import ChatPromptTemplate\n",
    "\n",
    "# Ollama를 사용하여 로컬에서 실행 중인 llama3.2 모델 로드\n",
    "llm = ChatOllama(model=\"deepseek-r1:1.5b\")\n",
    "\n",
    "# 프롬프트 템플릿 정의\n",
    "# prompt_template = PromptTemplate.from_template(\"Q: {question}\\nA:\")\n",
    "\n",
    "# 더 정확한 응답을 위한 개선된 프롬프트\n",
    "prompt_template = ChatPromptTemplate.from_messages([\n",
    "    (\"system\", \"You are an AI assistant that provides accurate and detailed answers.\"),\n",
    "    (\"human\", \"Q: {question}\\nA:\")\n",
    "])\n",
    "\n",
    "# 최신 LangChain 방식: RunnableSequence 활용\n",
    "chain = prompt_template | llm\n",
    "\n",
    "# 실행 예시\n",
    "question = \"What is Pyhon?\"\n",
    "response = chain.invoke({\"question\": question})\n",
    "\n",
    "print(type(response))\n",
    "print(response)"
   ]
  },
  {
   "cell_type": "code",
   "execution_count": 7,
   "metadata": {},
   "outputs": [
    {
     "name": "stdout",
     "output_type": "stream",
     "text": [
      "<think>\n",
      "Okay, the user asked, \"What is Python?\" I need to provide a clear and comprehensive answer.\n",
      "\n",
      "First, I should explain what Python is as a programming language. It's known for being easy to learn and has good support for libraries like NumPy, Pandas, Matplotlib. But it's also quite powerful for more complex tasks.\n",
      "\n",
      "I remember that Python uses an interactive shell where you can type commands directly into the terminal. There's Python 2 and Python 3 versions; I should mention both.\n",
      "\n",
      "It's important to note how Python interacts with other languages like Java or C++ through frameworks like Django and Flask. Also, it's used for web development with Flask, though some might prefer using Streamlit in Jupyter notebooks instead of VLOW.\n",
      "\n",
      "I should include its use cases across various fields: web development, data analysis, scientific computing, artificial intelligence, and more. Mentioning libraries like PyTorch and TensorFlow can show its versatility beyond basic tasks.\n",
      "\n",
      "Finally, I'll wrap it up by highlighting Python's extensive capabilities and community support, giving the user a solid overview of what to expect.\n",
      "</think>\n",
      "\n",
      "Python is a programming language that was originally called \"Pilishemo\" due to its first letters spelling P-i-l-h-e-m-o. It became popular in the mid-20th century and has since been widely used for various purposes, including web development, data analysis, machine learning, scientific computing, game development, and more.\n",
      "\n",
      "Here are some key aspects of Python:\n",
      "\n",
      "1. **Programming Language**: Python is a high-level, interpreted programming language that runs on platforms like Windows, macOS, and Linux. It's also available in many versions, such as Python 3.\n",
      "\n",
      "2. **Variables and Data Structures**: Unlike many other languages, Python allows for dynamic typing, meaning you don't have to declare the type of a variable before assigning it. The basic data structure is the list, which is one of Python's most important.\n",
      "\n",
      "3. **Control Flow**: You can use conditional statements (if, elif) and loops (for, while).\n",
      "\n",
      "4. **Classes and Objects**: Python allows for object-oriented programming with classes.\n",
      "\n",
      "5. **Functions and Modules**: Functions allow you to write reusable code. Modules are another way to organize related functionality.\n",
      "\n",
      "6. **Importing Modules**: You can import other modules using the `import` statement.\n",
      "\n",
      "7. **File I/O**: Python has built-in support for reading and writing files (file reading, file writing).\n",
      "\n",
      "8. **Data Handling**: Python provides extensive libraries like NumPy, Pandas, and Matplotlib that allow you to manipulate large datasets easily.\n",
      "\n",
      "9. **Web Development**: Python is used with frameworks like Django, Flask, and Streamlit for building web applications.\n",
      "\n",
      "10. **AI and Machine Learning**: Python's scikit-learn library is widely used in machine learning tasks such as classification, regression, and clustering.\n",
      "\n",
      "Python's flexibility allows you to create custom programming languages or even entire operating systems, but that's beyond the scope of this discussion.\n"
     ]
    }
   ],
   "source": [
    "print(response.content)"
   ]
  },
  {
   "cell_type": "code",
   "execution_count": 8,
   "metadata": {},
   "outputs": [
    {
     "name": "stdout",
     "output_type": "stream",
     "text": [
      "<think>\n",
      "Okay, the user is asking, \"What is Python?\" and I need to provide a detailed answer. Let me start by recalling the basics of Python. Python is a high-level programming language, right? It's known for being easy to read and write. I should mention its syntax that resembles English, which makes it accessible for beginners.\n",
      "\n",
      "Next, I should talk about its use cases. Python is used in web development, data analysis, artificial intelligence, scientific computing, and more. Maybe mention some popular frameworks like Django or Flask for web dev. Also, libraries like NumPy, Pandas, Matplotlib for data analysis and visualization.\n",
      "\n",
      "I should highlight Python's versatility. It's not just for one area; it's a general-purpose language. Also, its community support is strong, which contributes to its popularity. Maybe mention that it's open-source and has a vast ecosystem.\n",
      "\n",
      "I need to explain that Python is interpreted, which means it's not compiled. That's important for users who might not be familiar with compilation processes. Also, mention that it's cross-platform, meaning it runs on different operating systems without modifications.\n",
      "\n",
      "Oh, and the versioning system, like Python 3.x vs 2.x, but maybe that's too technical. The user might not need that detail. Focus on the main features.\n",
      "\n",
      "Wait, the user might be a beginner, so I should keep the explanation straightforward without too much jargon. Also, include that it's developed by Guido van Rossum and released in 1991. Maybe mention the Zen of Python as a guiding principle.\n",
      "\n",
      "I should structure the answer in a logical flow: definition, features, use cases, community, and maybe a brief history. Make sure it's clear and concise. Avoid any markdown, just plain text. Check for any inaccuracies, like the versioning or the community aspects. Yeah, that's covered. Alright, time to put it all together in a coherent way.\n",
      "</think>\n",
      "\n",
      "파이썬은 프로그래밍 언어로, **고급형 언어**로 유명한 것으로, 코드의 읽기 쉬움과 명확한 문법을 특징으로 합니다. 파이썬은 **영어의 자연스러운 문법**을 기반으로 만들어졌으며, **영어로 쓰인 코드**로 작성할 수 있어 초기 사용자들에게 편리하게 사용할 수 있습니다. \n",
      "\n",
      "### 주요 특징\n",
      "1. **고급형 언어**:  \n",
      "   - 코드의 가독성이 높고, **언어의 구조가 명확**합니다.  \n",
      "   - 간결한 문법으로, 실용적인 코드를 쉽게 작성할 수 있습니다.  \n",
      "\n",
      "2. **다육성**:  \n",
      "   - 웹 개발, 데이터 분석, 머신러닝, 사이버 보안, 시뮬레이션 등 다양한 분야에서 활용됩니다.  \n",
      "   - 주요 프레임워크로 **Django**, **Flask**, **NumPy**, **Pandas**, **Matplotlib** 등이 있습니다.\n",
      "\n",
      "3. **개방성과 커뮤니티**:  \n",
      "   - **열린 소스**로, **커뮤니티**가 끊임없이 발전을 이끌고 있습니다.  \n",
      "   - **Python 3.x**의 버전은 **최신 기술**을 반영하고 있으며, **구조화된 버전 관리**가 가능합니다.\n",
      "\n",
      "4. **인터프리터**:  \n",
      "   - 코드를 실행하기 전에 **해석**하여 실행합니다.  \n",
      "   - **실행 속도**는 비교적 느리지만, **구문 오류**를 검사하고 빠르게 개발할 수 있습니다.\n",
      "\n",
      "5. **다중 플랫폼**:  \n",
      "   - **Windows, macOS, Linux** 등 다양한 운영 시스템에서 동작합니다.\n",
      "\n",
      "### 주요 응용 분야\n",
      "- **웹 개발**: Django, Flask 등으로 웹사이트 개발.  \n",
      "- **데이터 분석**: Pandas, NumPy로 통계, 시각화.  \n",
      "- **머신러닝**: Scikit-learn, TensorFlow로 AI 모델 구축.  \n",
      "- **서버 관리**: Ansible, Terraform 등으로 자동화.  \n",
      "- **기타**: 앱 개발, 게임 개발, 시스템 프로그래밍 등.\n",
      "\n",
      "### 역사\n",
      "- 1989년에 **Guido van Rossum**이 개발한 **Python 0.9.4**로 시작되었습니다.  \n",
      "- 2008년 이후 **Python 3.x** 버전이 주로 사용되며, **Python 2.x**는 2020년에 정식 종료되었습니다.\n",
      "\n",
      "### 요약\n",
      "파이썬은 **편리한 문법**과 **다양한 활용 분야**를 특징으로, 개발자들에게 **효율적인 프로그래밍**을 가능하게 합니다. **열린 소스**로, **커뮤니티의 지원**이 끊임없이 이어지고 있습니다.\n"
     ]
    }
   ],
   "source": [
    "from langchain_ollama import ChatOllama\n",
    "from langchain_core.prompts import ChatPromptTemplate\n",
    "\n",
    "# Ollama를 사용하여 로컬에서 실행 중인 llama3.2 모델 로드\n",
    "llm = ChatOllama(model=\"qwen3:1.7b\")\n",
    "\n",
    "# 더 정확한 응답을 위한 개선된 프롬프트\n",
    "prompt_template = ChatPromptTemplate.from_messages([\n",
    "    (\"system\", \"You are an AI assistant that provides accurate and detailed answers.\"),\n",
    "    (\"human\", \"Q: {question}\\nA:\")\n",
    "])\n",
    "\n",
    "# 최신 LangChain 방식: RunnableSequence 활용\n",
    "chain = prompt_template | llm\n",
    "\n",
    "# 실행 예시\n",
    "question = \"파이썬은 무엇인가요?\"\n",
    "response = chain.invoke({\"question\": question})\n",
    "\n",
    "print(response.content)"
   ]
  }
 ],
 "metadata": {
  "kernelspec": {
   "display_name": "mylangchain-app-SBe-Yh6W-py3.12",
   "language": "python",
   "name": "python3"
  },
  "language_info": {
   "codemirror_mode": {
    "name": "ipython",
    "version": 3
   },
   "file_extension": ".py",
   "mimetype": "text/x-python",
   "name": "python",
   "nbconvert_exporter": "python",
   "pygments_lexer": "ipython3",
   "version": "3.12.7"
  }
 },
 "nbformat": 4,
 "nbformat_minor": 2
}
